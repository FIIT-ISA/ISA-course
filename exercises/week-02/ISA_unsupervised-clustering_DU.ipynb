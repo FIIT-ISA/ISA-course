{
 "cells": [
  {
   "cell_type": "code",
   "execution_count": null,
   "id": "02d66c84-6444-4c4f-8656-190fa14cdc7a",
   "metadata": {},
   "outputs": [],
   "source": [
    "# -*- coding: utf-8 -*-\n",
    "#\n",
    "# Licensed under the Apache License, Version 2.0 (the \"License\");\n",
    "# you may not use this file except in compliance with the License.\n",
    "# You may obtain a copy of the License at\n",
    "#\n",
    "#    http://www.apache.org/licenses/LICENSE-2.0\n",
    "#\n",
    "# Unless required by applicable law or agreed to in writing, software\n",
    "# distributed under the License is distributed on an \"AS IS\" BASIS,\n",
    "# WITHOUT WARRANTIES OR CONDITIONS OF ANY KIND, either express or\n",
    "# implied.\n",
    "# See the License for the specific language governing permissions and\n",
    "# limitations under the License.\n",
    "#"
   ]
  },
  {
   "cell_type": "markdown",
   "id": "3ea19ddbe433ea78",
   "metadata": {
    "collapsed": false,
    "jupyter": {
     "outputs_hidden": false
    }
   },
   "source": [
    "# Unsupervised Clustering Homework (DÚ)\n",
    "\n",
    "- Dataset https://archive.ics.uci.edu/dataset/235/individual+household+electric+power+consumption implement clustering algorithms.\n",
    "- The dataset, located in the file 'household_power_consumption.txt', contains information about household power consumption, including various features such as global active power, global reactive power, voltage, global intensity, and sub-metering values.\n",
    "  \n",
    "Use Data Preprocessing, Feature Selection and Standardization for this dataset. "
   ]
  },
  {
   "cell_type": "markdown",
   "id": "a9326878-b367-4608-a50a-261ece36dcd2",
   "metadata": {},
   "source": [
    "## Solution"
   ]
  },
  {
   "cell_type": "code",
   "execution_count": null,
   "id": "fb2256c4c7afe1f0",
   "metadata": {
    "ExecuteTime": {
     "end_time": "2024-03-03T20:12:15.973226500Z",
     "start_time": "2024-03-03T20:09:36.054458200Z"
    },
    "collapsed": false,
    "jupyter": {
     "outputs_hidden": false
    }
   },
   "outputs": [],
   "source": [
    "import pandas as pd\n",
    "from sklearn.cluster import KMeans\n",
    "from sklearn.preprocessing import StandardScaler\n",
    "import matplotlib.pyplot as plt\n",
    "\n",
    "# Load the dataset with explicit dtype handling and date parsing\n",
    "df = pd.read_csv('data/household_power_consumption.txt', sep=';', parse_dates={'DateTime': ['Date', 'Time']}, dayfirst=True, encoding=\"utf-8\", low_memory=False)\n",
    "\n",
    "# Convert non-numeric values to NaN and drop rows with NaN\n",
    "numeric_cols = ['Global_active_power', 'Global_reactive_power', 'Voltage', 'Global_intensity', 'Sub_metering_1', 'Sub_metering_2', 'Sub_metering_3']\n",
    "df[numeric_cols] = df[numeric_cols].apply(pd.to_numeric, errors='coerce')\n",
    "df.dropna(inplace=True)\n",
    "\n",
    "# Select relevant features for clustering\n",
    "features = df[numeric_cols]\n",
    "# Perform standardization using StandardScaler\n",
    "scaler = StandardScaler()\n",
    "features_scaled = scaler.fit_transform(features)\n",
    "\n",
    "# Apply K-means clustering with explicit n_init\n",
    "kmeans = KMeans(n_clusters=3, random_state=42, n_init=10)\n",
    "df['Cluster'] = kmeans.fit_predict(features_scaled)\n",
    "\n",
    "# Extract centroids from KMeans model\n",
    "centroids = scaler.inverse_transform(kmeans.cluster_centers_)\n",
    "\n",
    "# Display the first few rows of the resulting dataframe\n",
    "print(df.head())\n",
    "\n",
    "# Visualize the clusters \n",
    "plt.scatter(features_scaled[:, 0], features_scaled[:, 1], c=df['Cluster'], cmap='viridis', s=20, label='Data Points')\n",
    "plt.scatter(centroids[:, 0], centroids[:, 1], marker='X', s=200, c='red', label='Centroids')\n",
    "plt.title('K-means Clustering')\n",
    "plt.xlabel('Global_active_power (Standardized)')\n",
    "plt.ylabel('Global_reactive_power (Standardized)')\n",
    "plt.legend() \n",
    "plt.show()\n"
   ]
  }
 ],
 "metadata": {
  "kernelspec": {
   "display_name": "Python 3 (ipykernel)",
   "language": "python",
   "name": "python3"
  },
  "language_info": {
   "codemirror_mode": {
    "name": "ipython",
    "version": 3
   },
   "file_extension": ".py",
   "mimetype": "text/x-python",
   "name": "python",
   "nbconvert_exporter": "python",
   "pygments_lexer": "ipython3",
   "version": "3.9.18"
  }
 },
 "nbformat": 4,
 "nbformat_minor": 5
}
