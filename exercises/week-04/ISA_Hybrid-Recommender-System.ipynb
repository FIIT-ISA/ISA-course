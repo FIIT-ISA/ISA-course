{
 "cells": [
  {
   "cell_type": "code",
   "execution_count": null,
   "id": "c8425ea1-1105-4bff-b80a-e2f6d809171b",
   "metadata": {},
   "outputs": [],
   "source": [
    "# -*- coding: utf-8 -*-\n",
    "#\n",
    "# Licensed under the Apache License, Version 2.0 (the \"License\");\n",
    "# you may not use this file except in compliance with the License.\n",
    "# You may obtain a copy of the License at\n",
    "#\n",
    "#    http://www.apache.org/licenses/LICENSE-2.0\n",
    "#\n",
    "# Unless required by applicable law or agreed to in writing, software\n",
    "# distributed under the License is distributed on an \"AS IS\" BASIS,\n",
    "# WITHOUT WARRANTIES OR CONDITIONS OF ANY KIND, either express or\n",
    "# implied.\n",
    "# See the License for the specific language governing permissions and\n",
    "# limitations under the License.\n",
    "#"
   ]
  },
  {
   "cell_type": "markdown",
   "id": "92e93d5f-445b-4308-8dc6-1e414f8797da",
   "metadata": {},
   "source": [
    "# Hybrid Recommender system\n",
    "\n",
    "We will build a hybrid recommender system that leverages both collaborative and content-based filtering methods. The goal of a hybrid system is to combine the strengths of both approaches to provide more accurate recommendations.\n",
    "\n",
    "**Inspired by:** [Movie Recommendation Engine](https://github.com/jalajthanaki/Movie_recommendation_engine/blob/master/Movie_recommendation_engine.ipynb).\n",
    "\n",
    "## Datasets\n",
    "In this Notebook, we will work once again with movies. You can download this public dataset from provided link: **[The Movies Dataset](https://drive.google.com/drive/folders/1JnQXDCsGAb75I4PRRMDHUO0WxmXT-usv)**\n",
    "\n",
    "You will need to download one more file **`movies_metadata.csv`** from following link: **[movies_metadata.csv (Kaggle)](https://www.kaggle.com/datasets/rounakbanik/the-movies-dataset)**\n",
    "\n",
    "Here, we can see the files we are going to work with:\n",
    "- `credits.csv`\n",
    "- `keywords.csv`\n",
    "- `links_small.csv`\n",
    "- `movies_metadata.csv`\n",
    "- `ratings.csv`"
   ]
  },
  {
   "cell_type": "code",
   "execution_count": null,
   "id": "d59339cb-bfd2-4343-a994-7e0d8370f6b7",
   "metadata": {},
   "outputs": [],
   "source": [
    "# !pip install surprise"
   ]
  },
  {
   "cell_type": "code",
   "execution_count": null,
   "id": "e1b60ed0-b470-48b4-b5e1-2073860034ab",
   "metadata": {},
   "outputs": [],
   "source": [
    "import pandas as pd\n",
    "import numpy as np\n",
    "from ast import literal_eval\n",
    "from sklearn.feature_extraction.text import TfidfVectorizer, CountVectorizer\n",
    "from sklearn.metrics.pairwise import linear_kernel, cosine_similarity\n",
    "from nltk.stem.snowball import SnowballStemmer\n",
    "from surprise import Reader, Dataset, SVD\n",
    "from surprise.model_selection import cross_validate\n",
    "\n",
    "import warnings\n",
    "\n",
    "warnings.filterwarnings('ignore', category=pd.errors.SettingWithCopyWarning)"
   ]
  },
  {
   "cell_type": "code",
   "execution_count": null,
   "id": "c9191dd9-453e-4284-a2b3-ace76e61e934",
   "metadata": {},
   "outputs": [],
   "source": [
    "credits = pd.read_csv('hybrid_data/credits.csv')\n",
    "keywords = pd.read_csv('hybrid_data/keywords.csv')\n",
    "links_small = pd.read_csv('hybrid_data/links_small.csv')\n",
    "md = pd.read_csv('hybrid_data/movies_metadata.csv')\n",
    "ratings = pd.read_csv('hybrid_data/ratings_small.csv')"
   ]
  },
  {
   "cell_type": "markdown",
   "id": "8695d4af-85d2-42ea-a3be-96e00e202cd4",
   "metadata": {},
   "source": [
    "### Credits"
   ]
  },
  {
   "cell_type": "code",
   "execution_count": null,
   "id": "efb06011-a485-476c-ab7e-b8ad7fb63387",
   "metadata": {},
   "outputs": [],
   "source": [
    "credits.head()"
   ]
  },
  {
   "cell_type": "code",
   "execution_count": null,
   "id": "dd018bd1-cbd4-4e36-9cde-8bf88ab542c8",
   "metadata": {},
   "outputs": [],
   "source": [
    "credits.columns"
   ]
  },
  {
   "cell_type": "markdown",
   "id": "8eec8def-b6d2-4f6c-96a4-6d9567e147b2",
   "metadata": {},
   "source": [
    "- `cast`: Information about casting. Name of actor, gender and it's character name in movie\n",
    "- `crew`: Information about crew members. Like who directed the movie, editor of the movie and so on.\n",
    "- `id`: It's movie ID given by TMDb"
   ]
  },
  {
   "cell_type": "code",
   "execution_count": null,
   "id": "bf508265-c654-4488-bdce-92940eafc073",
   "metadata": {},
   "outputs": [],
   "source": [
    "credits.shape"
   ]
  },
  {
   "cell_type": "code",
   "execution_count": null,
   "id": "474609e3-79e0-46e8-a5e3-ada21fa2f028",
   "metadata": {},
   "outputs": [],
   "source": [
    "credits.info()"
   ]
  },
  {
   "cell_type": "markdown",
   "id": "a5f77e2b-59da-4acb-bec3-65d86d0d053c",
   "metadata": {},
   "source": [
    "### Keywords"
   ]
  },
  {
   "cell_type": "code",
   "execution_count": null,
   "id": "66f40374-8eb4-46de-a77e-7bfc1e5b975f",
   "metadata": {},
   "outputs": [],
   "source": [
    "keywords.head()"
   ]
  },
  {
   "cell_type": "code",
   "execution_count": null,
   "id": "30975180-6ac2-452d-8ec6-9c2581c286b4",
   "metadata": {},
   "outputs": [],
   "source": [
    "keywords.columns"
   ]
  },
  {
   "cell_type": "markdown",
   "id": "86a8e74b-55e8-473c-866b-855b8336f12f",
   "metadata": {},
   "source": [
    "- `id`: It's movie ID given by TMDb\n",
    "- `keywords`: Tags/keywords for the movie. It list of tags/keywords"
   ]
  },
  {
   "cell_type": "code",
   "execution_count": null,
   "id": "261b6215-4519-412e-babd-6adafbac07fa",
   "metadata": {},
   "outputs": [],
   "source": [
    "keywords.shape"
   ]
  },
  {
   "cell_type": "code",
   "execution_count": null,
   "id": "b96cb938-f3f8-4c69-a937-59e92ea9884d",
   "metadata": {},
   "outputs": [],
   "source": [
    "keywords.info()"
   ]
  },
  {
   "cell_type": "markdown",
   "id": "fe1d190e-b4df-4edd-8081-c4d65554dc5a",
   "metadata": {},
   "source": [
    "### Links"
   ]
  },
  {
   "cell_type": "code",
   "execution_count": null,
   "id": "2e793d59-bebf-4cda-a927-8afc8055c058",
   "metadata": {},
   "outputs": [],
   "source": [
    "links_small.head()"
   ]
  },
  {
   "cell_type": "code",
   "execution_count": null,
   "id": "adb05763-cc75-4be8-8370-f2cce646acff",
   "metadata": {},
   "outputs": [],
   "source": [
    "links_small.columns"
   ]
  },
  {
   "cell_type": "markdown",
   "id": "99863d9a-502a-4e68-9f12-0f3ffc2a308e",
   "metadata": {},
   "source": [
    "- `movieId`: It's serial number for movie\n",
    "- `imdbId`: Movie id given on IMDb platform\n",
    "- `tmdbId`: Movie id given on TMDb platform"
   ]
  },
  {
   "cell_type": "code",
   "execution_count": null,
   "id": "c9d74c59-bc1a-45c9-bbe6-9869ad0b6cb4",
   "metadata": {},
   "outputs": [],
   "source": [
    "links_small.shape"
   ]
  },
  {
   "cell_type": "code",
   "execution_count": null,
   "id": "b72faeb8-8c9d-430f-a12d-10b3cdcb2457",
   "metadata": {},
   "outputs": [],
   "source": [
    "links_small.info()"
   ]
  },
  {
   "cell_type": "markdown",
   "id": "0a5c2c77-e2a4-4b6f-a3e1-98deed3df253",
   "metadata": {},
   "source": [
    "### Metadata"
   ]
  },
  {
   "cell_type": "code",
   "execution_count": null,
   "id": "a3838c3a-aa62-42f8-8a53-4e3e174578e7",
   "metadata": {},
   "outputs": [],
   "source": [
    "md.iloc[0:3].transpose()"
   ]
  },
  {
   "cell_type": "code",
   "execution_count": null,
   "id": "00ab29f4-dc79-440d-9f05-d45641e249c2",
   "metadata": {},
   "outputs": [],
   "source": [
    "md.columns"
   ]
  },
  {
   "cell_type": "markdown",
   "id": "a0529f5b-f80f-487a-b534-512b4e3677c5",
   "metadata": {},
   "source": [
    "- `adult`: Indicates if the movie is X-Rated or Adult.\n",
    "- `belongs_to_collection`: A stringified dictionary that gives information on the movie series the particular film belongs to.\n",
    "- `budget`: The budget of the movie in dollars.\n",
    "- `genres`: A stringified list of dictionaries that list out all the genres associated with the movie.\n",
    "- `homepage`: The Official Homepage of the move.\n",
    "- `id`: The ID of the movie.\n",
    "- `imdb_id`: The IMDB ID of the movie.\n",
    "- `original_language`: The language in which the movie was originally shot in.\n",
    "- `original_title`: The original title of the movie.\n",
    "- `overview`: A brief blurb of the movie.\n",
    "- `popularity`: The Popularity Score assigned by TMDB.\n",
    "- `poster_path`: The URL of the poster image.\n",
    "- `production_companies`: A stringified list of production companies involved with the making of the movie.\n",
    "- `production_countries`: A stringified list of countries where the movie was shot/produced in.\n",
    "- `release_date`: Theatrical Release Date of the movie.\n",
    "- `revenue`: The total revenue of the movie in dollars.\n",
    "- `runtime`: The runtime of the movie in minutes.\n",
    "- `spoken_languages`: A stringified list of spoken languages in the film.\n",
    "- `status`: The status of the movie (Released, To Be Released, Announced, etc.)\n",
    "- `tagline`: The tagline of the movie.\n",
    "- `title`: The Official Title of the movie.\n",
    "- `video`: Indicates if there is a video present of the movie with TMDB.\n",
    "- `vote_average`: The average rating of the movie.\n",
    "- `vote_count`: The number of votes by users, as counted by TMDB."
   ]
  },
  {
   "cell_type": "code",
   "execution_count": null,
   "id": "359dee87-31f1-4ce6-bf24-ef1851087bc6",
   "metadata": {},
   "outputs": [],
   "source": [
    "md.shape"
   ]
  },
  {
   "cell_type": "code",
   "execution_count": null,
   "id": "c08145b4-a045-4ae7-9b62-91bb2286ee42",
   "metadata": {},
   "outputs": [],
   "source": [
    "md.info()"
   ]
  },
  {
   "cell_type": "markdown",
   "id": "fd34be8e-947d-4625-9357-d80511219c40",
   "metadata": {},
   "source": [
    "### Ratings"
   ]
  },
  {
   "cell_type": "code",
   "execution_count": null,
   "id": "f4387637-ea2b-4258-8da3-cd1dc163536f",
   "metadata": {},
   "outputs": [],
   "source": [
    "ratings.head()"
   ]
  },
  {
   "cell_type": "code",
   "execution_count": null,
   "id": "16e0901e-a8bd-4ddd-93e3-1fad6651ca0e",
   "metadata": {},
   "outputs": [],
   "source": [
    "ratings.columns"
   ]
  },
  {
   "cell_type": "markdown",
   "id": "d4e2451d-bd79-43be-800c-e49e70276444",
   "metadata": {},
   "source": [
    "- `userId`: It is id for User\n",
    "- `movieId`: It is TMDb movie id.\n",
    "- `rating`: Rating given for the particular movie by specific user\n",
    "- `timestamp`: Time stamp when rating has been given by user"
   ]
  },
  {
   "cell_type": "code",
   "execution_count": null,
   "id": "7bfd66b9-0b72-4289-87a1-831a03986e6a",
   "metadata": {},
   "outputs": [],
   "source": [
    "ratings.shape"
   ]
  },
  {
   "cell_type": "code",
   "execution_count": null,
   "id": "efb252cb-6579-4d94-b0a9-f56eb6d9c295",
   "metadata": {},
   "outputs": [],
   "source": [
    "ratings.info()"
   ]
  },
  {
   "cell_type": "markdown",
   "id": "05e466f0-5063-4bd3-a7a1-6ce47ba3b6a2",
   "metadata": {},
   "source": [
    "## Build Recommendation System"
   ]
  },
  {
   "cell_type": "markdown",
   "id": "b568fabd-7e60-4be4-8e11-6af08df1a18c",
   "metadata": {},
   "source": [
    "### Simple Recommendation System\n",
    "\n",
    "__Approach__:\n",
    "\n",
    "- The Simple Recommender offers __generalized__ recommendations to every user __based on movie popularity and (sometimes) genre__.\n",
    "\n",
    "- The __basic idea__ behind this recommender is that __movies that are more popular and more critically acclaimed will have a higher probability of being liked by the average audience.__\n",
    "\n",
    "- This model __does not give personalized recommendations based on the user__.\n",
    "\n",
    "__What we are actually doing:__\n",
    "\n",
    "- The implementation of this model is extremely trivial.\n",
    "- All we have to do is __sort our movies based on ratings and popularity__ and display the top movies of our list.\n",
    "- As an added step, we can __pass in a genre argument to get the top movies of a particular genre.__\n"
   ]
  },
  {
   "cell_type": "code",
   "execution_count": null,
   "id": "65f51310-3434-4582-9ebd-c8546f9b97fa",
   "metadata": {},
   "outputs": [],
   "source": [
    "md['genres'] = md['genres'].fillna('[]').apply(literal_eval).apply(lambda x: [i[\n",
    "    'name'] for i in x] if isinstance(x, list) else [])"
   ]
  },
  {
   "cell_type": "markdown",
   "id": "010483e6-1e6f-4bf0-867a-20e879e61f63",
   "metadata": {},
   "source": [
    "- We use the TMDB Ratings to come up with our Top Movies Chart.\n",
    "- We will use IMDB's weighted rating formula to construct my chart.\n",
    "- Mathematically, it is represented as follows:\n",
    "\n",
    "$$\n",
    "\\text{Weighted Rating (WR)} = \\left(\\frac{v}{v+m} \\cdot R\\right) + \\left(\\frac{m}{v+m} \\cdot C\\right)\n",
    "$$\n",
    "\n",
    "where:\n",
    "\n",
    "- \\( v \\) is the number of votes for the movie\n",
    "- \\( m \\) is the minimum votes required to be listed in the chart\n",
    "- \\( R \\) is the average rating of the movie\n",
    "- \\( C \\) is the mean vote across the whole report\n"
   ]
  },
  {
   "cell_type": "code",
   "execution_count": null,
   "id": "a7c87a97-776c-4feb-8076-3e47129a61c9",
   "metadata": {},
   "outputs": [],
   "source": [
    "# this is V\n",
    "vote_counts = md[md['vote_count'].notnull()]['vote_count'].astype('int')\n",
    "\n",
    "# this is R\n",
    "vote_averages = md[md['vote_average'].notnull()]['vote_average'].astype('int')\n",
    "\n",
    "# this is C\n",
    "C = vote_averages.mean()\n",
    "C"
   ]
  },
  {
   "cell_type": "code",
   "execution_count": null,
   "id": "dfafcb14-f7ee-4734-83f9-3d041920170a",
   "metadata": {},
   "outputs": [],
   "source": [
    "m = vote_counts.quantile(0.95)\n",
    "m"
   ]
  },
  {
   "cell_type": "code",
   "execution_count": null,
   "id": "3535d0d2-7993-41b1-a228-5290b2a187ea",
   "metadata": {},
   "outputs": [],
   "source": [
    "md['year'] = pd.to_datetime(md['release_date'], errors='coerce').apply(\n",
    "    lambda x: str(x).split('-')[0] if x != np.nan else np.nan)"
   ]
  },
  {
   "cell_type": "code",
   "execution_count": null,
   "id": "3c53862d-9522-467d-b25f-31c1078377c3",
   "metadata": {},
   "outputs": [],
   "source": [
    "qualified = md[(md['vote_count'] >= m) & \n",
    "               (md['vote_count'].notnull()) & \n",
    "               (md['vote_average'].notnull())][['title', \n",
    "                                                'year', \n",
    "                                                'vote_count', \n",
    "                                                'vote_average', \n",
    "                                                'popularity', \n",
    "                                                'genres']]\n",
    "\n",
    "qualified['vote_count'] = qualified['vote_count'].astype('int')\n",
    "qualified['vote_average'] = qualified['vote_average'].astype('int')\n",
    "qualified.shape"
   ]
  },
  {
   "cell_type": "markdown",
   "id": "fe25abbb-7c9b-4462-b5ac-f808f1534797",
   "metadata": {},
   "source": [
    "- Therefore, to qualify to be considered for the chart, a movie has to have at least __434 votes__ on TMDB.\n",
    "- We also see that the __average rating__ for __a movie on TMDB__ is __5.244 on a scale of 10__.\n",
    "- Here, only __2274 movies__ are qualify to be on our chart."
   ]
  },
  {
   "cell_type": "code",
   "execution_count": null,
   "id": "2543ee99-9302-479a-a747-ce8bdd22efeb",
   "metadata": {},
   "outputs": [],
   "source": [
    "def weighted_rating(x):\n",
    "    v = x['vote_count']\n",
    "    R = x['vote_average']\n",
    "    return (v/(v+m) * R) + (m/(m+v) * C)"
   ]
  },
  {
   "cell_type": "code",
   "execution_count": null,
   "id": "07b15d38-1f2b-41e5-8dbe-3f0d4f8cb5d8",
   "metadata": {},
   "outputs": [],
   "source": [
    "qualified['wr'] = qualified.apply(weighted_rating, axis=1)"
   ]
  },
  {
   "cell_type": "code",
   "execution_count": null,
   "id": "8372c4f9-7ee1-4b34-a2b7-7816f1da741d",
   "metadata": {},
   "outputs": [],
   "source": [
    "qualified = qualified.sort_values('wr', ascending=False).head(250)"
   ]
  },
  {
   "cell_type": "code",
   "execution_count": null,
   "id": "70e70e0a-6d6f-4398-ae15-2208d62e69fc",
   "metadata": {},
   "outputs": [],
   "source": [
    "qualified.head(15)"
   ]
  },
  {
   "cell_type": "markdown",
   "id": "87192680-7223-4fb0-b135-1084a527b912",
   "metadata": {},
   "source": [
    "- We see that three Christopher Nolan Films, Inception, The Dark Knight and Interstellar occur at the very top of our chart.\n",
    "- The chart also indicates a strong bias of TMDB Users towards particular genres and directors.\n",
    "- Let us now construct our function that builds charts for particular genres.\n",
    "\n",
    "- For this, we relax our default conditions to the 85th percentile instead of 95."
   ]
  },
  {
   "cell_type": "code",
   "execution_count": null,
   "id": "dd7836d4-c55e-4ed7-9c7c-c64bbe11cde0",
   "metadata": {},
   "outputs": [],
   "source": [
    "s = md.apply(lambda x: pd.Series(x['genres']),axis=1).stack().reset_index(level=1, drop=True)\n",
    "s.name = 'genre'\n",
    "gen_md = md.drop('genres', axis=1).join(s)\n",
    "gen_md.head(3).transpose()"
   ]
  },
  {
   "cell_type": "code",
   "execution_count": null,
   "id": "74c42401-022f-4f71-b117-3058f54f2116",
   "metadata": {},
   "outputs": [],
   "source": [
    "def build_chart(genre, percentile=0.85):\n",
    "    df = gen_md[gen_md['genre'] == genre]\n",
    "    vote_counts = df[df['vote_count'].notnull()]['vote_count'].astype('int')\n",
    "    vote_averages = df[df['vote_average'].notnull()]['vote_average'].astype('int')\n",
    "    C = vote_averages.mean()\n",
    "    m = vote_counts.quantile(percentile)\n",
    "    \n",
    "    qualified = df[(df['vote_count'] >= m) & (df['vote_count'].notnull()) & \n",
    "                   (df['vote_average'].notnull())][['title', 'year', 'vote_count', 'vote_average', 'popularity']]\n",
    "    qualified['vote_count'] = qualified['vote_count'].astype('int')\n",
    "    qualified['vote_average'] = qualified['vote_average'].astype('int')\n",
    "    \n",
    "    qualified['wr'] = qualified.apply(lambda x: \n",
    "                        (x['vote_count']/(x['vote_count']+m) * x['vote_average']) + (m/(m+x['vote_count']) * C),\n",
    "                        axis=1)\n",
    "    qualified = qualified.sort_values('wr', ascending=False).head(250)\n",
    "    \n",
    "    return qualified"
   ]
  },
  {
   "cell_type": "markdown",
   "id": "690f1b45-56dc-43c7-bf30-92a59bc2c954",
   "metadata": {},
   "source": [
    "Let us see our method in action by displaying the __Top 15 Romance Movies__ (Romance almost didn't feature at all in our Generic Top Chart despite being one of the most popular movie genres).\n",
    "\n",
    "#### Top 15 Romantic Movies"
   ]
  },
  {
   "cell_type": "code",
   "execution_count": null,
   "id": "8401f0ee-45a9-45a0-b42a-6002e33a8244",
   "metadata": {},
   "outputs": [],
   "source": [
    "build_chart('Romance').head(15)"
   ]
  },
  {
   "cell_type": "markdown",
   "id": "3b94eefd-ecb3-4df2-9968-a937f43b0bf7",
   "metadata": {},
   "source": [
    "## Contend-based Recommender system"
   ]
  },
  {
   "cell_type": "code",
   "execution_count": null,
   "id": "10b963c1-9758-4dd3-91c4-5a3549c12abd",
   "metadata": {},
   "outputs": [],
   "source": [
    "links_small = links_small[links_small['tmdbId'].notnull()]['tmdbId'].astype('int')"
   ]
  },
  {
   "cell_type": "code",
   "execution_count": null,
   "id": "507b371d-d1e2-47de-9d4a-cc48eb42d8a2",
   "metadata": {},
   "outputs": [],
   "source": [
    "def convert_int(x):\n",
    "    try:\n",
    "        return int(x)\n",
    "    except:\n",
    "        return np.nan"
   ]
  },
  {
   "cell_type": "code",
   "execution_count": null,
   "id": "dfa540c2-a9c9-4b59-9c8f-d192740bb38b",
   "metadata": {},
   "outputs": [],
   "source": [
    "md['id'] = md['id'].apply(convert_int)\n",
    "md[md['id'].isnull()]"
   ]
  },
  {
   "cell_type": "code",
   "execution_count": null,
   "id": "09e40e6e-1381-4fd1-bc7a-9f1b72c0664c",
   "metadata": {},
   "outputs": [],
   "source": [
    "md = md.drop([19730, 29503, 35587])"
   ]
  },
  {
   "cell_type": "code",
   "execution_count": null,
   "id": "3c325350-536d-41a7-a685-89581bdb9928",
   "metadata": {},
   "outputs": [],
   "source": [
    "md['id'] = md['id'].astype('int')"
   ]
  },
  {
   "cell_type": "code",
   "execution_count": null,
   "id": "5aa334ed-cb10-426c-b192-8825e9d91cfa",
   "metadata": {},
   "outputs": [],
   "source": [
    "smd = md[md['id'].isin(links_small)]\n",
    "smd.shape"
   ]
  },
  {
   "cell_type": "markdown",
   "id": "72797941-37f1-4e68-b381-9ccb3e9edcf5",
   "metadata": {},
   "source": [
    "We have __9099 movies__ available in our small movies metadata dataset which is 5 times smaller than our original dataset of 45000 movies."
   ]
  },
  {
   "cell_type": "markdown",
   "id": "3c797cba-04e1-4adc-8126-f7320ec21de2",
   "metadata": {},
   "source": [
    "#### Theoretical note:\n",
    "#### CountVectorizer vs TfidfVectorizer\n",
    "\n",
    "In text processing and machine learning, `CountVectorizer` and `TfidfVectorizer` are two techniques used to convert text data into numerical vectors, suitable for use with machine learning algorithms. Here's an overview of the differences:\n",
    "\n",
    "__CountVectorizer__\n",
    "\n",
    "- **Purpose**: `CountVectorizer` transforms a list of text documents into a matrix of token (word) counts, commonly known as the \"bag of words\" model.\n",
    "- **Output**: Each word in a document is represented by the count of its occurrence within that document.\n",
    "- **Usage**: Useful when the frequency information is important, but it does not account for the relative importance of a word across the document set.\n",
    "- **Advantages**: Simplicity and good performance on some tasks.\n",
    "- **Disadvantages**: It doesn't consider the relative importance of words. Common words that appear in many documents, like \"is\" or \"the\", will have the same weight as rarer but potentially more informative words.\n",
    "\n",
    "__TfidfVectorizer__\n",
    "\n",
    "- **Purpose**: `TfidfVectorizer` operates similarly to `CountVectorizer` in creating features from text but also weights the words by their importance using the term frequency-inverse document frequency (TF-IDF) metric.\n",
    "- **Output**: Words are weighted in a document higher if they occur frequently in a document, but not in many documents across the set, thus reducing the influence of common words.\n",
    "- **Usage**: TF-IDF is useful when you need to assess the importance of words in documents and a collection of documents (e.g., document retrieval and recommendation).\n",
    "- **Advantages**: It takes into account not only the frequency of words in a document but also how unique these words are with respect to the whole collection of documents.\n",
    "- **Disadvantages**: It's a bit more complex and computationally intensive than `CountVectorizer`.\n",
    "\n",
    "In general, if only raw word frequency matters, `CountVectorizer` may suffice. However, if you want to consider word importance relative to the entire dataset, `TfidfVectorizer` is the better option.\n"
   ]
  },
  {
   "cell_type": "markdown",
   "id": "def31efb-95f2-4d26-b8e1-ee541a5214f3",
   "metadata": {},
   "source": [
    "### Content-based Recommender System: Using movie description and taglines\n",
    "\n",
    "- Let us first try to build a recommender using movie descriptions and taglines.\n",
    "- We do not have a quantitative metric to judge our machine's performance so this will have to be done qualitatively."
   ]
  },
  {
   "cell_type": "code",
   "execution_count": null,
   "id": "8107248b-4f6a-4414-8ed0-09a31775694f",
   "metadata": {},
   "outputs": [],
   "source": [
    "smd.loc[:, 'description'] = smd['overview'].fillna('') + smd['tagline'].fillna('')"
   ]
  },
  {
   "cell_type": "code",
   "execution_count": null,
   "id": "2baecf7a-eab7-4c30-877c-7131bf351377",
   "metadata": {},
   "outputs": [],
   "source": [
    "tf = TfidfVectorizer(analyzer='word',ngram_range=(1, 2), stop_words='english')\n",
    "tfidf_matrix = tf.fit_transform(smd['description'])"
   ]
  },
  {
   "cell_type": "code",
   "execution_count": null,
   "id": "095ec3c5-6c1a-42e0-897f-678cb8f23b19",
   "metadata": {},
   "outputs": [],
   "source": [
    "tfidf_matrix.shape"
   ]
  },
  {
   "cell_type": "markdown",
   "id": "1597f42b-9bfd-44aa-b99c-0fa20bc0eee7",
   "metadata": {},
   "source": [
    "- Since we have used the TF-IDF Vectorizer, calculating the Dot Product will directly give us the Cosine Similarity Score.\n",
    "\n",
    "- Therefore, we will use sklearn's linear_kernel instead of cosine_similarities since it is much faster."
   ]
  },
  {
   "cell_type": "code",
   "execution_count": null,
   "id": "181afd0c-392f-4191-b016-315618019643",
   "metadata": {},
   "outputs": [],
   "source": [
    "cosine_sim = linear_kernel(tfidf_matrix, tfidf_matrix)"
   ]
  },
  {
   "cell_type": "code",
   "execution_count": null,
   "id": "2aca427b-795c-4773-bc52-1678947eddd8",
   "metadata": {},
   "outputs": [],
   "source": [
    "cosine_sim[0]"
   ]
  },
  {
   "cell_type": "markdown",
   "id": "f986a452-2bc5-47f9-83db-3c69400190fa",
   "metadata": {},
   "source": [
    "- We now have a pairwise cosine similarity matrix for all the movies in our dataset.\n",
    "- The next step is to write a function that returns the 30 most similar movies based on the cosine similarity score."
   ]
  },
  {
   "cell_type": "code",
   "execution_count": null,
   "id": "08cc8bca-a6eb-48d2-a640-d584f61109ad",
   "metadata": {},
   "outputs": [],
   "source": [
    "smd = smd.reset_index()\n",
    "titles = smd['title']\n",
    "indices = pd.Series(smd.index, index=smd['title'])"
   ]
  },
  {
   "cell_type": "code",
   "execution_count": null,
   "id": "c1265ea8-066c-40f6-99b8-956e60d44408",
   "metadata": {},
   "outputs": [],
   "source": [
    "def get_recommendations(title):\n",
    "    idx = indices[title]\n",
    "    sim_scores = list(enumerate(cosine_sim[idx]))\n",
    "    sim_scores = sorted(sim_scores, key=lambda x: x[1], reverse=True)\n",
    "    sim_scores = sim_scores[1:31]\n",
    "    movie_indices = [i[0] for i in sim_scores]\n",
    "    return titles.iloc[movie_indices]"
   ]
  },
  {
   "cell_type": "markdown",
   "id": "8b3634b3-1b8d-4532-8df2-c2ff957072cc",
   "metadata": {},
   "source": [
    "- We're all set...!\n",
    "- Let us now try and get the top recommendations for a few movies and see how good the recommendations are."
   ]
  },
  {
   "cell_type": "code",
   "execution_count": null,
   "id": "0ffcd12d-5d90-4e27-a8fc-36ea9d1976ae",
   "metadata": {},
   "outputs": [],
   "source": [
    "get_recommendations('The Godfather').head(10)"
   ]
  },
  {
   "cell_type": "code",
   "execution_count": null,
   "id": "32787477-bc56-4442-a214-6557c59b99b1",
   "metadata": {},
   "outputs": [],
   "source": [
    "get_recommendations('The Dark Knight').head(10)"
   ]
  },
  {
   "cell_type": "markdown",
   "id": "aee3195f-a7a4-4b0b-916b-78405a550ae9",
   "metadata": {},
   "source": [
    "We see that for The __Dark Knight__, our system is able to identify it as a __Batman film and subsequently recommend other Batman films__ as its top recommendations.\n",
    "\n",
    "But unfortunately, that is all this system can do at the moment.\n",
    "\n",
    "This is not of much use to most people as it doesn't take into considerations very important features such as cast, crew, director and genre, which determine the rating and the popularity of a movie.\n",
    "\n",
    "Someone who liked The Dark Knight probably likes it more because of Nolan and would hate Batman Forever and every other substandard movie in the Batman Franchise.\n",
    "\n",
    "Therefore, we are going to use much more suggestive metadata than Overview and Tagline.\n",
    "In the next subsection, we will build a more sophisticated recommender that takes __genre, keywords, cast and crew__ into consideration."
   ]
  },
  {
   "cell_type": "markdown",
   "id": "cee95c36-b6df-48b9-9195-07ac930b2b74",
   "metadata": {},
   "source": [
    "### Content based RS : Using movie description, taglines, keywords, cast, director and genres\n",
    "- To build our standard metadata based content recommender, we will need to __merge our current dataset with the crew and the keyword datasets.__\n",
    "- Let us prepare this data as our first step."
   ]
  },
  {
   "cell_type": "code",
   "execution_count": null,
   "id": "4a51e155-9f87-4a9b-a47a-9873a1822ab6",
   "metadata": {},
   "outputs": [],
   "source": [
    "keywords['id'] = keywords['id'].astype('int')\n",
    "credits['id'] = credits['id'].astype('int')\n",
    "md['id'] = md['id'].astype('int')"
   ]
  },
  {
   "cell_type": "code",
   "execution_count": null,
   "id": "69c81ae2-9d85-42a2-a042-03fa7cb2a6f3",
   "metadata": {},
   "outputs": [],
   "source": [
    "md.shape"
   ]
  },
  {
   "cell_type": "code",
   "execution_count": null,
   "id": "94449dff-cdec-4d0e-8156-8c51dccdd743",
   "metadata": {},
   "outputs": [],
   "source": [
    "md = md.merge(credits, on='id')\n",
    "md = md.merge(keywords, on='id')"
   ]
  },
  {
   "cell_type": "code",
   "execution_count": null,
   "id": "e8c289b6-c8b2-453d-b1e9-ddcd38f2eb80",
   "metadata": {},
   "outputs": [],
   "source": [
    "smd = md[md['id'].isin(links_small)]\n",
    "smd.shape"
   ]
  },
  {
   "cell_type": "markdown",
   "id": "8bc4c485-f9b0-46e7-9b33-1d50fa750bb1",
   "metadata": {},
   "source": [
    "We now have our cast, crew, genres and credits, all in one dataframe. Let us wrangle this a little more using the following intuitions:\n",
    "\n",
    "__1. Crew:__ From the crew, we will only pick the director as our feature since the others don't contribute that much to the feel of the movie.\n",
    "\n",
    "__2. Cast:__ Choosing Cast is a little more tricky. Lesser known actors and minor roles do not really affect people's opinion of a movie. Therefore, we must only select the major characters and their respective actors. Arbitrarily we will choose the top 3 actors that appear in the credits list."
   ]
  },
  {
   "cell_type": "code",
   "execution_count": null,
   "id": "776cdbc1-4d19-4fa3-a204-76ec6fffb8bc",
   "metadata": {},
   "outputs": [],
   "source": [
    "smd['cast'] = smd['cast'].apply(literal_eval)\n",
    "smd['crew'] = smd['crew'].apply(literal_eval)\n",
    "smd['keywords'] = smd['keywords'].apply(literal_eval)\n",
    "smd['cast_size'] = smd['cast'].apply(lambda x: len(x))\n",
    "smd['crew_size'] = smd['crew'].apply(lambda x: len(x))"
   ]
  },
  {
   "cell_type": "code",
   "execution_count": null,
   "id": "bc5f54f4-08e3-457a-ae81-8b6e6bc23549",
   "metadata": {},
   "outputs": [],
   "source": [
    "def get_director(x):\n",
    "    for i in x:\n",
    "        if i['job'] == 'Director':\n",
    "            return i['name']\n",
    "    return np.nan"
   ]
  },
  {
   "cell_type": "code",
   "execution_count": null,
   "id": "c8c386a9-6657-42f0-b45b-9fd1d57d7bdf",
   "metadata": {},
   "outputs": [],
   "source": [
    "smd['director'] = smd['crew'].apply(get_director)\n",
    "smd['cast'] = smd['cast'].apply(lambda x: [i['name'] for i in x] if isinstance(x, list) else [])\n",
    "smd['cast'] = smd['cast'].apply(lambda x: x[:3] if len(x) >=3 else x)\n",
    "smd['keywords'] = smd['keywords'].apply(lambda x: [i['name'] for i in x] if isinstance(x, list) else [])"
   ]
  },
  {
   "cell_type": "markdown",
   "id": "6e8dd115-5f52-4d6b-95f5-165b3d9b1b85",
   "metadata": {},
   "source": [
    "- Approach to building the recommender is going to be extremely hacky.\n",
    "\n",
    "- What We plan on doing is creating a metadata dump for every movie which consists of genres, director, main actors and keywords.\n",
    "\n",
    "- We then use a __Count Vectorizer__ to create our __count matrix__\n",
    "\n",
    "- The remaining steps are similar to what we did earlier: we calculate the cosine similarities and return movies that are most similar.\n",
    "\n",
    "These are steps I follow in the preparation of my genres and credits data:\n",
    "\n",
    "1. __Strip Spaces and Convert to Lowercase__ from all our features. This way, our engine will not confuse between Johnny Depp and Johnny Galecki.\n",
    "2. __Mention Director 2 times__ to give it __more weight relative to the entire cast.__"
   ]
  },
  {
   "cell_type": "code",
   "execution_count": null,
   "id": "32dac4bd-3cde-4ff8-8b6d-53bf07f22446",
   "metadata": {},
   "outputs": [],
   "source": [
    "smd['cast'] = smd['cast'].apply(lambda x: [str.lower(i.replace(\" \", \"\")) for i in x])\n",
    "smd['director'] = smd['director'].astype('str').apply(lambda x: str.lower(x.replace(\" \", \"\")))\n",
    "smd['director'] = smd['director'].apply(lambda x: [x,x, x])"
   ]
  },
  {
   "cell_type": "markdown",
   "id": "aee8f160-f382-4025-b276-42a1efab057e",
   "metadata": {},
   "source": [
    "__Keywords__\n",
    "\n",
    "- We will do a small amount of pre-processing of our keywords before putting them to any use.\n",
    "- We __calculate the frequenct counts of every keyword__ that appears in the dataset."
   ]
  },
  {
   "cell_type": "code",
   "execution_count": null,
   "id": "2de30b14-945a-4bac-ac4a-b7ca54c063fa",
   "metadata": {},
   "outputs": [],
   "source": [
    "s = smd.apply(lambda x: pd.Series(x['keywords']),axis=1).stack().reset_index(level=1, drop=True)\n",
    "s.name = 'keyword'\n",
    "s = s.value_counts()\n",
    "s[:5]"
   ]
  },
  {
   "cell_type": "markdown",
   "id": "57347230-ef09-4bf4-9e47-19b312a325b6",
   "metadata": {},
   "source": [
    "- Keywords occur in frequencies ranging from 1 to 610.\n",
    "- We do not have any use for keywords that occur only once.\n",
    "- Therefore, these can be safely removed.\n",
    "- Finally, we will convert every word to its stem so that words such as Dogs and Dog are considered the same."
   ]
  },
  {
   "cell_type": "code",
   "execution_count": null,
   "id": "ef44233d-747a-4a40-8ada-07a70556ffa1",
   "metadata": {},
   "outputs": [],
   "source": [
    "s = s[s > 1]"
   ]
  },
  {
   "cell_type": "code",
   "execution_count": null,
   "id": "94297582-eb7f-49cd-a1c0-fd4269376db8",
   "metadata": {},
   "outputs": [],
   "source": [
    "stemmer = SnowballStemmer('english')\n",
    "stemmer.stem('dogs')"
   ]
  },
  {
   "cell_type": "code",
   "execution_count": null,
   "id": "e994911f-4a8c-42ff-94db-01c80cb83b92",
   "metadata": {},
   "outputs": [],
   "source": [
    "def filter_keywords(x):\n",
    "    words = []\n",
    "    for i in x:\n",
    "        if i in s:\n",
    "            words.append(i)\n",
    "    return words"
   ]
  },
  {
   "cell_type": "code",
   "execution_count": null,
   "id": "78e76909-92ff-45b8-9842-8ecfac3a1980",
   "metadata": {},
   "outputs": [],
   "source": [
    "smd['keywords'] = smd['keywords'].apply(filter_keywords)\n",
    "smd['keywords'] = smd['keywords'].apply(lambda x: [stemmer.stem(i) for i in x])\n",
    "smd['keywords'] = smd['keywords'].apply(lambda x: [str.lower(i.replace(\" \", \"\")) for i in x])"
   ]
  },
  {
   "cell_type": "code",
   "execution_count": null,
   "id": "c969779f-7b2b-4836-bcc7-49385c19eb43",
   "metadata": {},
   "outputs": [],
   "source": [
    "smd['soup'] = smd['keywords'] + smd['cast'] + smd['director'] + smd['genres']\n",
    "smd['soup'] = smd['soup'].apply(lambda x: ' '.join(x))"
   ]
  },
  {
   "cell_type": "code",
   "execution_count": null,
   "id": "4ed2099a-8286-4830-99b9-3e14bccd5667",
   "metadata": {},
   "outputs": [],
   "source": [
    "count = CountVectorizer(analyzer='word',ngram_range=(1, 2), stop_words='english')\n",
    "count_matrix = count.fit_transform(smd['soup'])"
   ]
  },
  {
   "cell_type": "code",
   "execution_count": null,
   "id": "215896ed-9cbe-43b8-93a6-85017ffa7098",
   "metadata": {},
   "outputs": [],
   "source": [
    "cosine_sim = cosine_similarity(count_matrix, count_matrix)"
   ]
  },
  {
   "cell_type": "code",
   "execution_count": null,
   "id": "4c6824db-a591-4db6-a1a1-bff29ab1f7af",
   "metadata": {},
   "outputs": [],
   "source": [
    "smd = smd.reset_index()\n",
    "titles = smd['title']\n",
    "indices = pd.Series(smd.index, index=smd['title'])"
   ]
  },
  {
   "cell_type": "markdown",
   "id": "b6f18b12-a3fa-438a-862b-e7f1ede00134",
   "metadata": {},
   "source": [
    "- We will reuse the get_recommendations function that we had written earlier.\n",
    "- Since our cosine similarity scores have changed, we expect it to give us different (and probably better) results.\n",
    "- Let us check for The Dark Knight again and see what recommendations I get this time around."
   ]
  },
  {
   "cell_type": "code",
   "execution_count": null,
   "id": "5fd387a8-37fa-4d4b-8801-9c8db6700e2f",
   "metadata": {},
   "outputs": [],
   "source": [
    "get_recommendations('The Dark Knight').head(10)"
   ]
  },
  {
   "cell_type": "markdown",
   "id": "0b74f166-4b0f-444a-938c-f5b88df925da",
   "metadata": {},
   "source": [
    "- The recommendations seem to have recognized other Christopher Nolan movies (due to the high weightage given to director) and put them as top recommendations.\n",
    "- I enjoyed watching The Dark Knight as well as some of the other ones in the list including Batman Begins, The Prestige and The Dark Knight Rises.\n",
    "\n",
    "__Improvment__\n",
    "\n",
    "- We can of course experiment on this engine by trying out different weights for our features (directors, actors, genres), limiting the number of keywords that can be used in the soup, weighing genres based on their frequency, only showing movies with the same languages, etc."
   ]
  },
  {
   "cell_type": "code",
   "execution_count": null,
   "id": "143e32c9-19f3-4138-bc19-5f02a76b78f5",
   "metadata": {},
   "outputs": [],
   "source": [
    "get_recommendations('Inception').head(10)"
   ]
  },
  {
   "cell_type": "code",
   "execution_count": null,
   "id": "360cfad2-028e-4bf4-9d1f-72ac6d1b27e7",
   "metadata": {},
   "outputs": [],
   "source": [
    "get_recommendations('Mean Girls').head(10)"
   ]
  },
  {
   "cell_type": "code",
   "execution_count": null,
   "id": "4843a012-14d8-4be4-8545-f9d38f968742",
   "metadata": {},
   "outputs": [],
   "source": [
    "get_recommendations('Pulp Fiction').head(10)"
   ]
  },
  {
   "cell_type": "markdown",
   "id": "54536c8d-b282-469c-98c9-c2670abc9311",
   "metadata": {},
   "source": [
    "__Add Popularity and Ratings__\n",
    "- One thing that we notice about our recommendation system is that it recommends movies regardless of ratings and popularity. It is true that Batman and Robin has a lot of similar characters as compared to The Dark Knight but\n",
    "it was a terrible movie that shouldn't be recommended to anyone.\n",
    "\n",
    "- Therefore, we will add a mechanism to remove bad movies and return movies which are popular and have had a good critical response.\n",
    "\n",
    "- We will take the top 25 movies based on similarity scores and calculate the vote of the 60th percentile movie. Then, using this as the value of , we will calculate the weighted rating of each movie using IMDB's formula like we did in the Simple Recommender section."
   ]
  },
  {
   "cell_type": "code",
   "execution_count": null,
   "id": "e208ffa8-9785-422a-93df-5608490dd76b",
   "metadata": {},
   "outputs": [],
   "source": [
    "def improved_recommendations(title):\n",
    "    idx = indices[title]\n",
    "    sim_scores = list(enumerate(cosine_sim[idx]))\n",
    "    sim_scores = sorted(sim_scores, key=lambda x: x[1], reverse=True)\n",
    "    sim_scores = sim_scores[1:26]\n",
    "    movie_indices = [i[0] for i in sim_scores]\n",
    "    \n",
    "    movies = smd.iloc[movie_indices][['title', 'vote_count', 'vote_average', 'year']]\n",
    "    vote_counts = movies[movies['vote_count'].notnull()]['vote_count'].astype('int')\n",
    "    vote_averages = movies[movies['vote_average'].notnull()]['vote_average'].astype('int')\n",
    "    C = vote_averages.mean()\n",
    "    m = vote_counts.quantile(0.60)\n",
    "    qualified = movies[(movies['vote_count'] >= m) & (movies['vote_count'].notnull()) & \n",
    "                       (movies['vote_average'].notnull())]\n",
    "    qualified['vote_count'] = qualified['vote_count'].astype('int')\n",
    "    qualified['vote_average'] = qualified['vote_average'].astype('int')\n",
    "    qualified['wr'] = qualified.apply(weighted_rating, axis=1)\n",
    "    qualified = qualified.sort_values('wr', ascending=False).head(10)\n",
    "    return qualified"
   ]
  },
  {
   "cell_type": "code",
   "execution_count": null,
   "id": "254975c4-d84b-4fa9-990c-78e600594890",
   "metadata": {},
   "outputs": [],
   "source": [
    "improved_recommendations('The Dark Knight')"
   ]
  },
  {
   "cell_type": "code",
   "execution_count": null,
   "id": "87f54000-a359-4e85-817d-1e4b11c32bac",
   "metadata": {},
   "outputs": [],
   "source": [
    "improved_recommendations('Pulp Fiction')"
   ]
  },
  {
   "cell_type": "markdown",
   "id": "06418f3d-f66f-4118-9f5c-6ca175f1fc88",
   "metadata": {},
   "source": [
    "## Collaborative filtering based Recommender System\n",
    "__Our content based engine suffers from some severe limitations.__\n",
    "\n",
    "- It is only capable of suggesting movies which are close to a certain movie. That is, it is not capable of capturing tastes and providing recommendations across genres.\n",
    "- Also, the engine that we built is not really personal in that it doesn't capture the personal tastes and biases of a user. Anyone querying our engine for recommendations based on a movie will receive the same recommendations for that movie, regardless of who (s)he is.\n",
    "- Therefore, in this section, we will use Collaborative Filtering to make recommendations to Movie Watchers. Collaborative Filtering is based on the idea that users similar to a me can be used to predict how much I will like a particular product or service those users have used/experienced but I have not.\n",
    "- We will not be implementing Collaborative Filtering from scratch. Instead, We will use the Surprise library that used extremely powerful algorithms like __Singular Value Decomposition (SVD) to minimise RMSE (Root Mean Square Error) and give great recommendations.__"
   ]
  },
  {
   "cell_type": "code",
   "execution_count": null,
   "id": "6398e87e-99f7-47f2-9337-b834be6f13bf",
   "metadata": {},
   "outputs": [],
   "source": [
    "reader = Reader()"
   ]
  },
  {
   "cell_type": "code",
   "execution_count": null,
   "id": "df090ae0-c925-495c-b41a-97232586de78",
   "metadata": {},
   "outputs": [],
   "source": [
    "data = Dataset.load_from_df(ratings[['userId', 'movieId', 'rating']], reader)"
   ]
  },
  {
   "cell_type": "code",
   "execution_count": null,
   "id": "e0247791-14d6-4898-8059-40686d7911f5",
   "metadata": {},
   "outputs": [],
   "source": [
    "svd = SVD()\n",
    "\n",
    "# Run 5-fold cross-validation and print results\n",
    "results = cross_validate(svd, data, measures=['RMSE', 'MAE'], cv=5, verbose=True)"
   ]
  },
  {
   "cell_type": "code",
   "execution_count": null,
   "id": "e7cf612c-b3da-49e1-a655-4cf0f3330704",
   "metadata": {},
   "outputs": [],
   "source": [
    "trainset = data.build_full_trainset()\n",
    "svd.fit(trainset)"
   ]
  },
  {
   "cell_type": "code",
   "execution_count": null,
   "id": "74b26c90-fc16-4f8a-bb07-7fdaef6c85c8",
   "metadata": {},
   "outputs": [],
   "source": [
    "ratings[ratings['userId'] == 1]"
   ]
  },
  {
   "cell_type": "code",
   "execution_count": null,
   "id": "a365918f-4bd4-42a9-b877-d4514f5bfd32",
   "metadata": {},
   "outputs": [],
   "source": [
    "svd.predict(1, 302)"
   ]
  },
  {
   "cell_type": "markdown",
   "id": "cf2101b4-9a0d-43e9-9d6a-3d578c532ab5",
   "metadata": {},
   "source": [
    "- For movie with ID 302, we get an estimated prediction of 2.691. One startling feature of this recommender system is that it doesn't care what the movie is (or what it contains). It works purely on the basis of an assigned movie ID and tries to predict ratings based on how the other users have perceive the movie."
   ]
  },
  {
   "cell_type": "markdown",
   "id": "9602784e-1e63-4927-b5a5-c20a16079d6d",
   "metadata": {},
   "source": [
    "## Hybrid recommendation system\n",
    "- In this section, will try to build a simple hybrid recommender that brings together techniques we have implemented in the content based and collaborative filter based engines. This is how it will work:\n",
    "\n",
    "- __Input:__ User ID and the Title of a Movie\n",
    "\n",
    "- __Output:__ Similar movies sorted on the basis of expected ratings by that particular user."
   ]
  },
  {
   "cell_type": "code",
   "execution_count": null,
   "id": "b419d52a-9589-4148-8ec5-73af5512d4bd",
   "metadata": {},
   "outputs": [],
   "source": [
    "def convert_int(x):\n",
    "    try:\n",
    "        return int(x)\n",
    "    except:\n",
    "        return np.nan"
   ]
  },
  {
   "cell_type": "code",
   "execution_count": null,
   "id": "63210256-8620-407f-beac-d68e3d770166",
   "metadata": {},
   "outputs": [],
   "source": [
    "id_map = pd.read_csv('hybrid_data/links_small.csv')[['movieId', 'tmdbId']]\n",
    "id_map['tmdbId'] = id_map['tmdbId'].apply(convert_int)\n",
    "id_map.columns = ['movieId', 'id']\n",
    "id_map = id_map.merge(smd[['title', 'id']], on='id').set_index('title')"
   ]
  },
  {
   "cell_type": "code",
   "execution_count": null,
   "id": "f70a9fb2-60c8-4719-800a-d302b7f97e8a",
   "metadata": {},
   "outputs": [],
   "source": [
    "indices_map = id_map.set_index('id')"
   ]
  },
  {
   "cell_type": "code",
   "execution_count": null,
   "id": "951c2324-66d7-435c-914d-05d5f41d42db",
   "metadata": {},
   "outputs": [],
   "source": [
    "def hybrid(userId, title):\n",
    "    idx = indices[title]\n",
    "    tmdbId = id_map.loc[title]['id']\n",
    "    movie_id = id_map.loc[title]['movieId']\n",
    "    sim_scores = list(enumerate(cosine_sim[int(idx)]))\n",
    "    sim_scores = sorted(sim_scores, key=lambda x: x[1], reverse=True)\n",
    "    sim_scores = sim_scores[1:26]\n",
    "    movie_indices = [i[0] for i in sim_scores]\n",
    "    movies = smd.iloc[movie_indices][['title', 'vote_count', 'vote_average', 'release_date', 'id']]\n",
    "    movies['est'] = movies['id'].apply(lambda x: svd.predict(userId, indices_map.loc[x]['movieId']).est)\n",
    "    movies = movies.sort_values('est', ascending=False)\n",
    "    return movies.head(10)"
   ]
  },
  {
   "cell_type": "code",
   "execution_count": null,
   "id": "b6be22c8-8ce6-41b5-a513-1661b5448c1b",
   "metadata": {},
   "outputs": [],
   "source": [
    "hybrid(1, 'Avatar')"
   ]
  },
  {
   "cell_type": "code",
   "execution_count": null,
   "id": "bc65de6e-06d4-4d11-b4e2-885a835a774d",
   "metadata": {},
   "outputs": [],
   "source": [
    "hybrid(5000, 'Avatar')"
   ]
  },
  {
   "cell_type": "code",
   "execution_count": null,
   "id": "e8a8afb3-fa87-4dec-9b48-03047d0c461f",
   "metadata": {},
   "outputs": [],
   "source": []
  }
 ],
 "metadata": {
  "kernelspec": {
   "display_name": "Python 3 (ipykernel)",
   "language": "python",
   "name": "python3"
  },
  "language_info": {
   "codemirror_mode": {
    "name": "ipython",
    "version": 3
   },
   "file_extension": ".py",
   "mimetype": "text/x-python",
   "name": "python",
   "nbconvert_exporter": "python",
   "pygments_lexer": "ipython3",
   "version": "3.9.18"
  }
 },
 "nbformat": 4,
 "nbformat_minor": 5
}
