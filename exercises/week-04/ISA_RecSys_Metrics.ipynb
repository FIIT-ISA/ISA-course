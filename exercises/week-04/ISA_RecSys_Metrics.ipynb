{
 "cells": [
  {
   "cell_type": "code",
   "execution_count": 3,
   "id": "98c13944-4fc5-4a60-8540-51b4d60f35d9",
   "metadata": {},
   "outputs": [],
   "source": [
    "# -*- coding: utf-8 -*-\n",
    "#\n",
    "# Licensed under the Apache License, Version 2.0 (the \"License\");\n",
    "# you may not use this file except in compliance with the License.\n",
    "# You may obtain a copy of the License at\n",
    "#\n",
    "#    http://www.apache.org/licenses/LICENSE-2.0\n",
    "#\n",
    "# Unless required by applicable law or agreed to in writing, software\n",
    "# distributed under the License is distributed on an \"AS IS\" BASIS,\n",
    "# WITHOUT WARRANTIES OR CONDITIONS OF ANY KIND, either express or\n",
    "# implied.\n",
    "# See the License for the specific language governing permissions and\n",
    "# limitations under the License.\n",
    "#"
   ]
  },
  {
   "cell_type": "markdown",
   "id": "4fddcbce-8875-48ae-9db7-a7636e8c481b",
   "metadata": {},
   "source": [
    "# Overview of Metrics in Recommender Systems\n",
    "\n",
    "This notebook provides an overview of various metrics used in recommender systems. Recommender systems are algorithms aimed at suggesting relevant items to users. To evaluate the effectiveness of these systems, we use specific metrics that measure the accuracy and quality of recommendations.\n",
    "\n",
    "In this notebook, we will explore several key metrics commonly used in the field of recommender systems:\n",
    "\n",
    "- **Similarity Metrics**: These metrics assess how similar users or items are to each other, which is crucial for making relevant recommendations.\n",
    "- **Predictive Metrics**: These metrics are used to evaluate the accuracy of predicted ratings or preferences compared to actual user responses.\n",
    "- **Classification Metrics**: In scenarios where recommendations are treated as a binary classification problem (relevant or not relevant).\n",
    "\n",
    "To illustrate how these metrics work, we will use dummy data representing user interactions (ratings or likes) or attributes of items. The aim is to demonstrate the calculation and interpretation of each metric in the context of recommender systems. We will examine the similarities between items or preferences of users based on these metrics to understand their practical implications in recommending content.\n",
    "\n",
    "By the end of this notebook, you should have a clear understanding of how these metrics are calculated and how they can be applied to evaluate the performance of recommender systems.\n"
   ]
  },
  {
   "cell_type": "code",
   "execution_count": 4,
   "id": "b61404cb-806d-4ad9-8914-2a2335ffe18f",
   "metadata": {},
   "outputs": [],
   "source": [
    "import numpy as np\n",
    "import pandas as pd\n",
    "from numpy import dot\n",
    "from numpy.linalg import norm \n",
    "\n",
    "from scipy.stats import pearsonr\n",
    "from sklearn.metrics.pairwise import cosine_similarity, euclidean_distances\n",
    "from sklearn.metrics import jaccard_score\n",
    "from sklearn.metrics import mean_absolute_error, mean_squared_error\n",
    "from sklearn.feature_extraction.text import TfidfVectorizer\n",
    "\n",
    "import matplotlib.pyplot as plt\n",
    "from mpl_toolkits.mplot3d import Axes3D\n",
    "from matplotlib_venn import venn2"
   ]
  },
  {
   "cell_type": "markdown",
   "id": "cb1eefe0-7e44-466b-83ac-73d66c3866d3",
   "metadata": {},
   "source": [
    "## Similarity metrics\n",
    "\n",
    "Similarity metrics can be applied across different types of data, each presenting unique challenges and considerations. From **unary data**, where only a single type of interaction is recorded, to **binary data** that captures two possible states of interaction, and **quantitative data** that offers a nuanced view of preferences through ratings, the landscape of recommender systems is diverse. The suitability of a similarity metric largely depends on the nature of the underlying data and the specific requirements of the recommender system."
   ]
  },
  {
   "cell_type": "markdown",
   "id": "8314c6bf-a627-4db4-a295-a165cd3b90a6",
   "metadata": {},
   "source": [
    "### Cosine similarity\n",
    "\n",
    "Cosine similarity is a measure used to determine the similarity between two non-zero vectors in a vector space. This measure yields a value between -1 and 1, with 1 signifying parallel vectors (or total similarity), -1 denoting vectors in completely divergent directions (or total dissimilarity), and 0 representing perpendicular vectors (indicating no similarity).\n",
    "\n",
    "**Key aspects:**\n",
    "\n",
    "__1. Dimensionality Independence:__ Cosine similarity's utility remains intact regardless of the vectors' size. It prioritizes the direction in which the vectors point over their length, rendering it especially relevant for examining datasets with high dimensions or sparsity. In such cases, the orientation of the vectors offers more valuable information than their magnitude.\n",
    "\n",
    "__2. Advantages with Sparse Data:__ Cosine similarity is effective in scenarios characterized by sparse data, marked by vectors containing numerous zeroes or missing entries. In such cases, the non-zero elements play a crucial role in capturing the meaningful information and similarity between vectors.\n",
    "\n",
    "__3. Formula:__ It is represented by following formula:\n",
    "\n",
    "\n",
    "$$ \\text{cosine\\_similarity}(A, B) = \\frac{A \\cdot B}{||A|| \\cdot ||B||} $$\n",
    "\n",
    "where:\n",
    "- $ A $ and $ B $ are two vectors of attributes.\n",
    "- $ A \\cdot B $ is the dot product of the vectors.\n",
    "- $ \\|A\\| $ and $ \\|B\\| $ are the magnitudes (or Euclidean norms) of the vectors.\n",
    "\n",
    "We can demonstrate the cosine similarity in dummy data:"
   ]
  },
  {
   "cell_type": "code",
   "execution_count": 5,
   "id": "f6d8f803-eccb-4edf-8b8d-3588f30c9477",
   "metadata": {},
   "outputs": [
    {
     "data": {
      "text/html": [
       "<div>\n",
       "<style scoped>\n",
       "    .dataframe tbody tr th:only-of-type {\n",
       "        vertical-align: middle;\n",
       "    }\n",
       "\n",
       "    .dataframe tbody tr th {\n",
       "        vertical-align: top;\n",
       "    }\n",
       "\n",
       "    .dataframe thead th {\n",
       "        text-align: right;\n",
       "    }\n",
       "</style>\n",
       "<table border=\"1\" class=\"dataframe\">\n",
       "  <thead>\n",
       "    <tr style=\"text-align: right;\">\n",
       "      <th></th>\n",
       "      <th>Item1</th>\n",
       "      <th>Item2</th>\n",
       "      <th>Item3</th>\n",
       "      <th>Item4</th>\n",
       "      <th>Item5</th>\n",
       "    </tr>\n",
       "  </thead>\n",
       "  <tbody>\n",
       "    <tr>\n",
       "      <th>User1</th>\n",
       "      <td>3</td>\n",
       "      <td>1</td>\n",
       "      <td>3</td>\n",
       "      <td>2</td>\n",
       "      <td>4</td>\n",
       "    </tr>\n",
       "    <tr>\n",
       "      <th>User2</th>\n",
       "      <td>1</td>\n",
       "      <td>1</td>\n",
       "      <td>0</td>\n",
       "      <td>1</td>\n",
       "      <td>0</td>\n",
       "    </tr>\n",
       "    <tr>\n",
       "      <th>User3</th>\n",
       "      <td>0</td>\n",
       "      <td>4</td>\n",
       "      <td>5</td>\n",
       "      <td>2</td>\n",
       "      <td>4</td>\n",
       "    </tr>\n",
       "    <tr>\n",
       "      <th>User4</th>\n",
       "      <td>3</td>\n",
       "      <td>5</td>\n",
       "      <td>3</td>\n",
       "      <td>0</td>\n",
       "      <td>0</td>\n",
       "    </tr>\n",
       "    <tr>\n",
       "      <th>User5</th>\n",
       "      <td>2</td>\n",
       "      <td>3</td>\n",
       "      <td>0</td>\n",
       "      <td>0</td>\n",
       "      <td>1</td>\n",
       "    </tr>\n",
       "    <tr>\n",
       "      <th>User6</th>\n",
       "      <td>2</td>\n",
       "      <td>3</td>\n",
       "      <td>4</td>\n",
       "      <td>3</td>\n",
       "      <td>3</td>\n",
       "    </tr>\n",
       "    <tr>\n",
       "      <th>User7</th>\n",
       "      <td>5</td>\n",
       "      <td>1</td>\n",
       "      <td>5</td>\n",
       "      <td>4</td>\n",
       "      <td>4</td>\n",
       "    </tr>\n",
       "    <tr>\n",
       "      <th>User8</th>\n",
       "      <td>3</td>\n",
       "      <td>5</td>\n",
       "      <td>0</td>\n",
       "      <td>5</td>\n",
       "      <td>0</td>\n",
       "    </tr>\n",
       "    <tr>\n",
       "      <th>User9</th>\n",
       "      <td>5</td>\n",
       "      <td>2</td>\n",
       "      <td>3</td>\n",
       "      <td>2</td>\n",
       "      <td>3</td>\n",
       "    </tr>\n",
       "    <tr>\n",
       "      <th>User10</th>\n",
       "      <td>2</td>\n",
       "      <td>3</td>\n",
       "      <td>1</td>\n",
       "      <td>2</td>\n",
       "      <td>5</td>\n",
       "    </tr>\n",
       "  </tbody>\n",
       "</table>\n",
       "</div>"
      ],
      "text/plain": [
       "        Item1  Item2  Item3  Item4  Item5\n",
       "User1       3      1      3      2      4\n",
       "User2       1      1      0      1      0\n",
       "User3       0      4      5      2      4\n",
       "User4       3      5      3      0      0\n",
       "User5       2      3      0      0      1\n",
       "User6       2      3      4      3      3\n",
       "User7       5      1      5      4      4\n",
       "User8       3      5      0      5      0\n",
       "User9       5      2      3      2      3\n",
       "User10      2      3      1      2      5"
      ]
     },
     "execution_count": 5,
     "metadata": {},
     "output_type": "execute_result"
    }
   ],
   "source": [
    "np.random.seed(69)\n",
    "# At first we create simple DataFrame, that contains 10 users and 5 items.\n",
    "# And every user rated every item with value 0-5.\n",
    "\n",
    "num_users = 10\n",
    "num_items = 5\n",
    "\n",
    "ratings_matrix = np.random.choice([0, 1, 2, 3, 4, 5], size=(num_users, num_items))\n",
    "\n",
    "users = [f'User{i}' for i in range(1, num_users + 1)]\n",
    "items = [f'Item{i}' for i in range(1, num_items + 1)]\n",
    "\n",
    "dummy_data = pd.DataFrame(ratings_matrix, index=users, columns=items)\n",
    "dummy_data.head(10)"
   ]
  },
  {
   "cell_type": "code",
   "execution_count": 6,
   "id": "40e75669-c43e-4c88-9bac-4a9eaf73eccc",
   "metadata": {},
   "outputs": [
    {
     "name": "stdout",
     "output_type": "stream",
     "text": [
      "Cosine similarity between users is: 0.5547001962252291\n"
     ]
    }
   ],
   "source": [
    "user1_ratings = dummy_data.iloc[0].values.reshape(1, -1) \n",
    "user2_ratings = dummy_data.iloc[1].values.reshape(1, -1)\n",
    "\n",
    "print(f'Cosine similarity between users is: {cosine_similarity(user1_ratings, user2_ratings)[0][0]}')"
   ]
  },
  {
   "cell_type": "markdown",
   "id": "d646acbc-c509-4c1c-af99-d92ba0943bdd",
   "metadata": {},
   "source": [
    "- Or we can calculate it manually like this:"
   ]
  },
  {
   "cell_type": "code",
   "execution_count": 7,
   "id": "3df62de7-9ec3-4389-9c4e-fcb47a53416e",
   "metadata": {},
   "outputs": [],
   "source": [
    "def cosine_sim(v1, v2):\n",
    "        return dot(v1, v2) / (norm(v1) * norm(v2))"
   ]
  },
  {
   "cell_type": "code",
   "execution_count": 8,
   "id": "fa357e7e-b2d8-42ce-b926-d0538b7e2d74",
   "metadata": {},
   "outputs": [
    {
     "name": "stdout",
     "output_type": "stream",
     "text": [
      "Cosine similarity between users is: 0.5547001962252291\n"
     ]
    }
   ],
   "source": [
    "print(f'Cosine similarity between users is: {cosine_sim(dummy_data.iloc[0].values, dummy_data.iloc[1].values)}')"
   ]
  },
  {
   "cell_type": "markdown",
   "id": "4088b916-c0f8-42e1-a2f3-8327a4bd0156",
   "metadata": {},
   "source": [
    "- The calculated similarity of 0.5547 can be interpreted to mean that the two users have some degree of similarity in their ratings, but they're not exactly alike. "
   ]
  },
  {
   "cell_type": "markdown",
   "id": "a7b4a15e-29a4-416c-949e-85573c7fb606",
   "metadata": {},
   "source": [
    "- In order to visualize the vectors, we will take 2 users and their ratings for 2 items:"
   ]
  },
  {
   "cell_type": "code",
   "execution_count": 9,
   "id": "20048aff-95a5-4119-94a3-1cf6e2b1d429",
   "metadata": {},
   "outputs": [
    {
     "name": "stdout",
     "output_type": "stream",
     "text": [
      "Item1    3\n",
      "Item2    1\n",
      "Name: User1, dtype: int64\n"
     ]
    },
    {
     "data": {
      "text/plain": [
       "Item1    1\n",
       "Item2    1\n",
       "Name: User2, dtype: int64"
      ]
     },
     "execution_count": 9,
     "metadata": {},
     "output_type": "execute_result"
    }
   ],
   "source": [
    "vu1 = dummy_data.iloc[0, :2]\n",
    "vu2 = dummy_data.iloc[1, :2]\n",
    "\n",
    "print(vu1.head())\n",
    "vu2.head()"
   ]
  },
  {
   "cell_type": "code",
   "execution_count": 10,
   "id": "4b32bff0-1339-4aff-9cb1-68101f7cb4c9",
   "metadata": {},
   "outputs": [
    {
     "data": {
      "image/png": "[encoded data removed]",
      "text/plain": [
       "<Figure size 800x800 with 1 Axes>"
      ]
     },
     "metadata": {},
     "output_type": "display_data"
    }
   ],
   "source": [
    "vu1_2d = vu1.values.reshape(1, -1)\n",
    "vu2_2d = vu2.values.reshape(1, -1)\n",
    "cosine_similarity_2d = cosine_similarity(vu1_2d, vu2_2d)[0][0]\n",
    "\n",
    "fig, ax = plt.subplots(figsize=(8, 8))\n",
    "\n",
    "# Plot the vectors\n",
    "ax.quiver(0, 0, vu1.iloc[0], vu1.iloc[1], angles='xy', scale_units='xy', scale=1, color='blue', label='User1')\n",
    "ax.quiver(0, 0, vu2.iloc[0], vu2.iloc[1], angles='xy', scale_units='xy', scale=1, color='red', label='User2')\n",
    "\n",
    "# Set the labels for the axes\n",
    "ax.set_xlabel('Item1 Rating')\n",
    "ax.set_ylabel('Item2 Rating')\n",
    "\n",
    "ax.legend()\n",
    "ax.set_aspect('equal')\n",
    "\n",
    "# Set the limits of the plot\n",
    "max_limit_2d = np.max([vu1, vu2])\n",
    "ax.set_xlim([0, max_limit_2d])\n",
    "ax.set_ylim([0, max_limit_2d])\n",
    "\n",
    "ax.set_title(f'2D Cosine Similarity: {cosine_similarity_2d:.2f}')\n",
    "\n",
    "plt.grid(True)\n",
    "plt.show()"
   ]
  },
  {
   "cell_type": "markdown",
   "id": "5e0998d1-837a-40fb-b051-5508a8cd27fa",
   "metadata": {},
   "source": [
    "The 2D plot visualizing the ratings of two items by User1 and User2 as vectors, with the plot showing a high cosine similarity of 0.89, indicating that the users’ rating patterns (for 2 items) are quite similar (in context of two items). The closer alignment of the two vectors in the plot underscores their similar preferences for these two items."
   ]
  },
  {
   "cell_type": "markdown",
   "id": "c55c71f4-44ba-456d-bbe1-f2c1a43e3319",
   "metadata": {},
   "source": [
    "## Euclidean distance\n",
    "\n",
    "Euclidean distance is a common metric used to determine the straight-line distance between two points in a multi-dimensional space, such as a user-centered recommender system. It's akin to using a ruler to measure the shortest path between two points.\n",
    "\n",
    "The smaller the Euclidean distance, the more similar the two users are in terms of their preferences, as they're 'closer' to each other in the preference space. However, a limitation of this metric is its sensitivity to the scale of measurement. For instance, if User A generally rates items more generously than User B, the Euclidean distance between them might be large despite a strong underlying correlation in their rating patterns. This discrepancy arises because Euclidean distance measures absolute differences without normalizing for users' rating scales.\n",
    "\n",
    "The formula for Euclidean distance between two points in a 2-dimensional space is given by:\n",
    "\n",
    "$$ d(\\text{Person}_i, \\text{Person}_j) = \\sqrt{(\\text{X}_1 - \\text{X}_2)^2 + (\\text{Y}_1 - \\text{Y}_2)^2} $$\n",
    "\n",
    "where:\n",
    "- $ \\text{Person}_i $ and $ \\text{Person}_j $ represent two different users in the system.\n",
    "- $ \\text{X}_1 $ and $ \\text{X}_2 $ are the ratings from $ \\text{Person}_i $ and $ \\text{Person}_j $ for the same item on one axis (e.g., the rating for Item1).\n",
    "- $ \\text{Y}_1 $ and $ \\text{Y}_2 $ are the ratings from $ \\text{Person}_i $ and $ \\text{Person}_j $ for another item on another axis (e.g., the rating for Item2).\n",
    "\n",
    "The Euclidean distance can be understood as the length of the hypotenuse of a right-angled triangle formed by the users' ratings on the axes. The lower the Euclidean distance, the more similar the users' preferences are likely to be.\n",
    "\n",
    "- Now for the same users we calculate Euclidean distance:"
   ]
  },
  {
   "cell_type": "code",
   "execution_count": 11,
   "id": "16d801af-1ecb-424d-8bc6-3afa943af90a",
   "metadata": {},
   "outputs": [
    {
     "name": "stdout",
     "output_type": "stream",
     "text": [
      "Euclidean distance between users is: 5.477225575051661\n"
     ]
    }
   ],
   "source": [
    "print(f'Euclidean distance between users is: {euclidean_distances(user1_ratings, user2_ratings)[0][0]}')"
   ]
  },
  {
   "cell_type": "markdown",
   "id": "dd279a93-35d6-4c28-9062-13635504811e",
   "metadata": {},
   "source": [
    "- Or we can calculate it manually, like this:"
   ]
  },
  {
   "cell_type": "code",
   "execution_count": 12,
   "id": "a7058867-7f86-4505-8926-2a3aa49eb1e2",
   "metadata": {},
   "outputs": [],
   "source": [
    "def euc_distances(v1, v2):\n",
    "    squared_diffs = [(r1 - r2) ** 2 for r1, r2 in zip(v1, v2)]\n",
    "    \n",
    "    # Sum the squared differences and take the square root\n",
    "    distance = sum(squared_diffs) ** 0.5\n",
    "    return distance"
   ]
  },
  {
   "cell_type": "code",
   "execution_count": 13,
   "id": "54a97027-3228-4682-b7cb-316458ea9101",
   "metadata": {},
   "outputs": [
    {
     "name": "stdout",
     "output_type": "stream",
     "text": [
      "Euclidean distance between users is : 5.477225575051661\n"
     ]
    }
   ],
   "source": [
    "print(f'Euclidean distance between users is : {euc_distances(dummy_data.iloc[0].values, dummy_data.iloc[1].values)}')"
   ]
  },
  {
   "cell_type": "markdown",
   "id": "5bff906e-a58c-42c5-9876-d543078363f9",
   "metadata": {},
   "source": [
    "## Jaccard similarity\n",
    "\n",
    "Jaccard similarity provides an intuitive and quantifiable metric for comparing two sets. It is determined by the ratio of the number of elements common to both sets (the intersection) to the total number of unique elements present in either set (the union). The value of the Jaccard index varies between 0 and 1, with 0 signifying no shared elements and 1 indicating identical sets.\n",
    "\n",
    "To compute the Jaccard similarity, one identifies the elements shared between the sets and divides this number by the aggregate count of distinct elements in both sets. This simplicity is one of its key advantages, rendering it a versatile tool in numerous settings:\n",
    "\n",
    "**1. Comparison of Sets:** Jaccard similarity is valuable for comparing sets by concentrating on whether elements are shared, rather than their particular attributes or order. This is beneficial when element characteristics are secondary, or when processing these characteristics could introduce complexity and reduce efficiency.\n",
    "\n",
    "**2. Invariance to Scale:** The Jaccard similarity is not influenced by the size of the sets being compared. It is determined solely by the proportion of the shared elements to the overall content, which ensures it is a robust metric for comparing sets of varying sizes.\n",
    "\n",
    "**3. Binary Data Suitability:** This metric is ideal for binary data representations, where each element is simply marked as present or absent. It is particularly relevant in cases where the existence of certain features is crucial for the comparison.\n",
    "\n",
    "In recommender systems, Jaccard similarity is adept at identifying users with similar interests and suggesting items that have garnered approval within these user subsets. By leveraging the Jaccard similarity, recommender systems can fine-tune their personalization strategies, facilitating the discovery of items that are likely to align with the preferences of users with comparable patterns.\n",
    "\n",
    "**4. Formula:** It is represented by following formula:\n",
    "$$ \\text{Jaccard\\_similarity}(A, B) = \\frac{|A \\cap B|}{|A \\cup B|} $$\n",
    "\n",
    "where:\n",
    "- $ |A \\cap B| $ is the number of elements in both sets $ A $ and $ B $.\n",
    "- $ |A \\cup B| $ is the number of elements in either set $ A $ or $ B $."
   ]
  },
  {
   "cell_type": "code",
   "execution_count": 14,
   "id": "9fde77c3-dd70-4173-af85-eb6d7132daf3",
   "metadata": {},
   "outputs": [
    {
     "data": {
      "text/html": [
       "<div>\n",
       "<style scoped>\n",
       "    .dataframe tbody tr th:only-of-type {\n",
       "        vertical-align: middle;\n",
       "    }\n",
       "\n",
       "    .dataframe tbody tr th {\n",
       "        vertical-align: top;\n",
       "    }\n",
       "\n",
       "    .dataframe thead th {\n",
       "        text-align: right;\n",
       "    }\n",
       "</style>\n",
       "<table border=\"1\" class=\"dataframe\">\n",
       "  <thead>\n",
       "    <tr style=\"text-align: right;\">\n",
       "      <th></th>\n",
       "      <th>0</th>\n",
       "      <th>1</th>\n",
       "      <th>2</th>\n",
       "      <th>3</th>\n",
       "      <th>4</th>\n",
       "    </tr>\n",
       "  </thead>\n",
       "  <tbody>\n",
       "    <tr>\n",
       "      <th>User1</th>\n",
       "      <td>1</td>\n",
       "      <td>1</td>\n",
       "      <td>0</td>\n",
       "      <td>0</td>\n",
       "      <td>1</td>\n",
       "    </tr>\n",
       "    <tr>\n",
       "      <th>User2</th>\n",
       "      <td>1</td>\n",
       "      <td>0</td>\n",
       "      <td>1</td>\n",
       "      <td>1</td>\n",
       "      <td>0</td>\n",
       "    </tr>\n",
       "    <tr>\n",
       "      <th>User3</th>\n",
       "      <td>0</td>\n",
       "      <td>1</td>\n",
       "      <td>1</td>\n",
       "      <td>0</td>\n",
       "      <td>0</td>\n",
       "    </tr>\n",
       "    <tr>\n",
       "      <th>User4</th>\n",
       "      <td>1</td>\n",
       "      <td>1</td>\n",
       "      <td>0</td>\n",
       "      <td>1</td>\n",
       "      <td>1</td>\n",
       "    </tr>\n",
       "    <tr>\n",
       "      <th>User5</th>\n",
       "      <td>0</td>\n",
       "      <td>0</td>\n",
       "      <td>1</td>\n",
       "      <td>0</td>\n",
       "      <td>1</td>\n",
       "    </tr>\n",
       "  </tbody>\n",
       "</table>\n",
       "</div>"
      ],
      "text/plain": [
       "       0  1  2  3  4\n",
       "User1  1  1  0  0  1\n",
       "User2  1  0  1  1  0\n",
       "User3  0  1  1  0  0\n",
       "User4  1  1  0  1  1\n",
       "User5  0  0  1  0  1"
      ]
     },
     "execution_count": 14,
     "metadata": {},
     "output_type": "execute_result"
    }
   ],
   "source": [
    "# Convert the provided binary data to a DataFrame\n",
    "binary_data = {\n",
    "    'User1': [1, 1, 0, 0, 1],\n",
    "    'User2': [1, 0, 1, 1, 0],\n",
    "    'User3': [0, 1, 1, 0, 0],\n",
    "    'User4': [1, 1, 0, 1, 1],\n",
    "    'User5': [0, 0, 1, 0, 1],\n",
    "}\n",
    "\n",
    "# We convert the dictionary to a DataFrame and transpose it to get users as rows\n",
    "binary_df = pd.DataFrame(binary_data).T  # Transpose to get users as rows\n",
    "\n",
    "binary_df.head()"
   ]
  },
  {
   "cell_type": "code",
   "execution_count": 15,
   "id": "afbfeb50-5b3b-4506-b1e9-552b6d932627",
   "metadata": {},
   "outputs": [
    {
     "data": {
      "image/png": "[encoded data removed]",
      "text/plain": [
       "<Figure size 800x800 with 1 Axes>"
      ]
     },
     "metadata": {},
     "output_type": "display_data"
    }
   ],
   "source": [
    "# We assign column names representing items\n",
    "binary_df.columns = ['Item1', 'Item2', 'Item3', 'Item4', 'Item5']\n",
    "\n",
    "# Let's take User1 and User2 as an example for the Venn diagram\n",
    "# Convert binary interactions to set of items for each user\n",
    "items_user1 = set(binary_df.columns[binary_df.loc['User1'] == 1])\n",
    "items_user2 = set(binary_df.columns[binary_df.loc['User5'] == 1])\n",
    "\n",
    "jaccard_sim = jaccard_score(binary_df.loc['User1'], binary_df.loc['User2'])\n",
    "\n",
    "# Now, let's plot the Venn diagram for User1 and User2\n",
    "plt.figure(figsize=(8, 8))\n",
    "venn2([items_user1, items_user2], ('User1', 'User2'))\n",
    "plt.title(f'Jaccard Similarity between User1 and User2: {jaccard_sim}')\n",
    "plt.show()"
   ]
  },
  {
   "cell_type": "markdown",
   "id": "48247c5d-e05b-4fb9-a5bb-a9d64e9bfd30",
   "metadata": {},
   "source": [
    "## Pearson correlation coeficient\n",
    "\n",
    "The Pearson correlation coefficient, also known as Pearson's $ r $, is a statistical metric that quantifies the linear relationship between two continuous variables. It captures how closely data points fit a straight line, reflecting the relationship's strength and direction.\n",
    "\n",
    "Symbolized as $ r $, the Pearson correlation coefficient ranges from **-1 to 1**, where:\n",
    "\n",
    "- $ r = 1 $: Indicates a perfect positive correlation. As one variable increases, the other increases in a directly proportional manner, showcasing a strong upward linear trend.\n",
    "- $ r = -1 $: Signifies a perfect negative correlation. An increase in one variable corresponds with a proportional decrease in the other, indicating a strong downward linear trend.\n",
    "- $ r = 0 $: Denotes no linear correlation. The variables are independent, with no linear relationship evident.\n",
    "\n",
    "Utilizing the PCC within recommender systems allows us to predict how one user might rate an item based on the ratings of others. This is typically done by computing a weighted average of ratings from other users, where the weights are determined by the Pearson correlation between their rating vectors.\n",
    "\n",
    "By implementing PCC, we can offer personalized recommendations by drawing on the collective preferences expressed in user ratings, thus enhancing the system's ability to match users with content that aligns with their tastes.\n",
    "\n",
    "- **Formula:** It is represented by following formula:\n",
    "\n",
    "$$ \\text{Pearson\\_r}(X, Y) = \\frac{\\sum{(X_i - \\bar{X})(Y_i - \\bar{Y})}}{\\sqrt{\\sum{(X_i - \\bar{X})^2}} \\sqrt{\\sum{(Y_i - \\bar{Y})^2}}} $$\n",
    "\n",
    "where:\n",
    "- Each $ x_i $ is an individual value from the first variable, and $ \\bar{x} $ is the mean of all values from the first variable.\n",
    "- Same for $ y_i $\n",
    "- The deviations $ (x_i - \\bar{x}) $ and $ (y_i - \\bar{y}) $ are the distances of the individual values from their respective means.\n",
    "- These deviations are multiplied together for each pair of values and then summed up across all pairs.\n",
    "- $ \\sum{(x_i - \\bar{x})^2} $ which is the sum of the squared deviations of the first variable's values from their mean, representing its variance.\n",
    "- Same for $ y_i $\n",
    "- The square roots of these variances are the standard deviations of each variable.\n"
   ]
  },
  {
   "cell_type": "code",
   "execution_count": 16,
   "id": "42ed1bd1-a40b-4c13-a12a-b505246105df",
   "metadata": {},
   "outputs": [
    {
     "data": {
      "image/png": "[encoded data removed]",
      "text/plain": [
       "<Figure size 800x800 with 1 Axes>"
      ]
     },
     "metadata": {},
     "output_type": "display_data"
    }
   ],
   "source": [
    "# Calculate the coefficients of the best fit line\n",
    "\n",
    "ur1 = dummy_data.loc['User1']\n",
    "ur2 = dummy_data.loc['User4']\n",
    "pearson_corr = pearsonr(ur1, ur2)\n",
    "\n",
    "coefficients = np.polyfit(ur1, ur2, 1)\n",
    "polynomial = np.poly1d(coefficients)\n",
    "\n",
    "# Generate some x values (corresponding to user1's ratings) and then predict the y values (user2's ratings)\n",
    "x_axis = np.linspace(min(ur1), max(ur2), 100)\n",
    "y_axis = polynomial(x_axis)\n",
    "\n",
    "# Create the plot\n",
    "plt.figure(figsize=(8, 8))\n",
    "plt.scatter(ur1, ur2, color='black')  # actual points\n",
    "plt.plot(x_axis, y_axis, 'r--', label=f'Best fit line\\nPearson r: {pearson_corr.statistic:.2f}')  # best fit line\n",
    "\n",
    "# Add labels and legend\n",
    "plt.title('Correlation between User1 and User2 Ratings')\n",
    "plt.xlabel('User1 Ratings')\n",
    "plt.ylabel('User2 Ratings')\n",
    "plt.legend()\n",
    "plt.grid(True)\n",
    "\n",
    "# Show the plot\n",
    "plt.show()"
   ]
  },
  {
   "cell_type": "markdown",
   "id": "23f11a85-3632-44fb-99ce-5793b284a462",
   "metadata": {},
   "source": [
    "# Predictive metrics\n",
    "\n",
    "Predictive metrics are crucial in evaluating how closely the recommendations made by recommender systems match the actual ratings given by users. The two primary predictive metrics are **Mean Absolute Error (MAE)** and **Root Mean Squared Error (RMSE)**, both offering insights into the accuracy of predictions.\n"
   ]
  },
  {
   "cell_type": "markdown",
   "id": "6d89a19c-9734-44df-af28-e34f2b35edec",
   "metadata": {},
   "source": [
    "## MAE (Mean Absolute Error)\n",
    "\n",
    "MAE measures the average magnitude of errors between the predicted ratings and the actual user ratings, providing an intuitive metric of prediction accuracy.\n",
    "\n",
    "$$ \\text{MAE} = \\frac{1}{|R|} \\sum_{\\hat{r}_{ui} \\in R} |r_{ui} - \\hat{r}_{ui}| $$\n",
    "\n",
    "- $ |R| $ is the number of ratings in the dataset.\n",
    "- $ r_{ui} $ is the actual rating given by user $ u $ to item $ i $.\n",
    "- $ \\hat{r}_{ui} $ is the predicted rating for user $ u $ and item $ i $.\n",
    "- The absolute difference $ |r_{ui} - \\hat{r}_{ui}| $ indicates the error magnitude without considering the direction of the error.\n",
    "\n",
    "MAE is particularly useful as it treats all errors equally, providing a holistic view of the prediction accuracy without disproportionately penalizing larger errors.\n",
    "\n",
    "## RMSE (Root Mean Squared Error)\n",
    "\n",
    "RMSE extends MAE by squaring the errors before averaging, thus giving a higher weight to larger errors and being especially useful when large errors are particularly undesirable.\n",
    "\n",
    "$$ \\text{RMSE} = \\sqrt{\\frac{1}{|R|} \\sum_{\\hat{r}_{ui} \\in R} (r_{ui} - \\hat{r}_{ui})^2} $$\n",
    "\n",
    "- The square of the difference $ (r_{ui} - \\hat{r}_{ui})^2 $ emphasizes larger errors more than smaller ones.\n",
    "- The square root transforms the scale of the errors back to the original ratings scale.\n",
    "\n",
    "Both **RMSE** and **MAE** are typically evaluated for collaborative recommendation models using cross-validation techniques. However, from a business perspective, the lowest **RMSE** or **MAE** isn't the only goal; it's also crucial to consider other scoring metrics, including non-accuracy based ones, which will be discussed later, particularly for tasks with binary recommendations."
   ]
  },
  {
   "cell_type": "code",
   "execution_count": 17,
   "id": "2cbdb387-0867-42f3-9ba5-b2298bd57ddd",
   "metadata": {},
   "outputs": [],
   "source": [
    "np.random.seed(42)\n",
    "\n",
    "# Generating some 'true' ratings \n",
    "num_users = 10\n",
    "num_items = 5\n",
    "\n",
    "true_ratings = np.random.randint(1, 6, size=(num_users, num_items))\n",
    "\n",
    "# Generating some 'predicted' ratings \n",
    "predicted_ratings = np.random.randint(1, 6, size=(num_users, num_items))\n",
    "\n",
    "# Create DataFrames for true and predicted ratings for easy handling\n",
    "true_ratings_df = pd.DataFrame(true_ratings, index=users, columns=items)\n",
    "predicted_ratings_df = pd.DataFrame(predicted_ratings, index=users, columns=items)"
   ]
  },
  {
   "cell_type": "code",
   "execution_count": 18,
   "id": "76bd1ca9-5716-4364-bcb2-483bc4bba907",
   "metadata": {},
   "outputs": [
    {
     "data": {
      "text/html": [
       "<div>\n",
       "<style scoped>\n",
       "    .dataframe tbody tr th:only-of-type {\n",
       "        vertical-align: middle;\n",
       "    }\n",
       "\n",
       "    .dataframe tbody tr th {\n",
       "        vertical-align: top;\n",
       "    }\n",
       "\n",
       "    .dataframe thead th {\n",
       "        text-align: right;\n",
       "    }\n",
       "</style>\n",
       "<table border=\"1\" class=\"dataframe\">\n",
       "  <thead>\n",
       "    <tr style=\"text-align: right;\">\n",
       "      <th></th>\n",
       "      <th>Item1</th>\n",
       "      <th>Item2</th>\n",
       "      <th>Item3</th>\n",
       "      <th>Item4</th>\n",
       "      <th>Item5</th>\n",
       "    </tr>\n",
       "  </thead>\n",
       "  <tbody>\n",
       "    <tr>\n",
       "      <th>User1</th>\n",
       "      <td>4</td>\n",
       "      <td>5</td>\n",
       "      <td>3</td>\n",
       "      <td>5</td>\n",
       "      <td>5</td>\n",
       "    </tr>\n",
       "    <tr>\n",
       "      <th>User2</th>\n",
       "      <td>2</td>\n",
       "      <td>3</td>\n",
       "      <td>3</td>\n",
       "      <td>3</td>\n",
       "      <td>5</td>\n",
       "    </tr>\n",
       "    <tr>\n",
       "      <th>User3</th>\n",
       "      <td>4</td>\n",
       "      <td>3</td>\n",
       "      <td>5</td>\n",
       "      <td>2</td>\n",
       "      <td>4</td>\n",
       "    </tr>\n",
       "    <tr>\n",
       "      <th>User4</th>\n",
       "      <td>2</td>\n",
       "      <td>4</td>\n",
       "      <td>5</td>\n",
       "      <td>1</td>\n",
       "      <td>4</td>\n",
       "    </tr>\n",
       "    <tr>\n",
       "      <th>User5</th>\n",
       "      <td>2</td>\n",
       "      <td>5</td>\n",
       "      <td>4</td>\n",
       "      <td>1</td>\n",
       "      <td>1</td>\n",
       "    </tr>\n",
       "  </tbody>\n",
       "</table>\n",
       "</div>"
      ],
      "text/plain": [
       "       Item1  Item2  Item3  Item4  Item5\n",
       "User1      4      5      3      5      5\n",
       "User2      2      3      3      3      5\n",
       "User3      4      3      5      2      4\n",
       "User4      2      4      5      1      4\n",
       "User5      2      5      4      1      1"
      ]
     },
     "execution_count": 18,
     "metadata": {},
     "output_type": "execute_result"
    }
   ],
   "source": [
    "true_ratings_df.head()"
   ]
  },
  {
   "cell_type": "code",
   "execution_count": 19,
   "id": "d59443b4-e435-457b-9f0c-9f4cce4b146c",
   "metadata": {},
   "outputs": [
    {
     "data": {
      "text/html": [
       "<div>\n",
       "<style scoped>\n",
       "    .dataframe tbody tr th:only-of-type {\n",
       "        vertical-align: middle;\n",
       "    }\n",
       "\n",
       "    .dataframe tbody tr th {\n",
       "        vertical-align: top;\n",
       "    }\n",
       "\n",
       "    .dataframe thead th {\n",
       "        text-align: right;\n",
       "    }\n",
       "</style>\n",
       "<table border=\"1\" class=\"dataframe\">\n",
       "  <thead>\n",
       "    <tr style=\"text-align: right;\">\n",
       "      <th></th>\n",
       "      <th>Item1</th>\n",
       "      <th>Item2</th>\n",
       "      <th>Item3</th>\n",
       "      <th>Item4</th>\n",
       "      <th>Item5</th>\n",
       "    </tr>\n",
       "  </thead>\n",
       "  <tbody>\n",
       "    <tr>\n",
       "      <th>User1</th>\n",
       "      <td>4</td>\n",
       "      <td>4</td>\n",
       "      <td>4</td>\n",
       "      <td>5</td>\n",
       "      <td>3</td>\n",
       "    </tr>\n",
       "    <tr>\n",
       "      <th>User2</th>\n",
       "      <td>1</td>\n",
       "      <td>4</td>\n",
       "      <td>2</td>\n",
       "      <td>4</td>\n",
       "      <td>2</td>\n",
       "    </tr>\n",
       "    <tr>\n",
       "      <th>User3</th>\n",
       "      <td>2</td>\n",
       "      <td>4</td>\n",
       "      <td>5</td>\n",
       "      <td>2</td>\n",
       "      <td>2</td>\n",
       "    </tr>\n",
       "    <tr>\n",
       "      <th>User4</th>\n",
       "      <td>4</td>\n",
       "      <td>2</td>\n",
       "      <td>2</td>\n",
       "      <td>4</td>\n",
       "      <td>4</td>\n",
       "    </tr>\n",
       "    <tr>\n",
       "      <th>User5</th>\n",
       "      <td>1</td>\n",
       "      <td>5</td>\n",
       "      <td>5</td>\n",
       "      <td>2</td>\n",
       "      <td>5</td>\n",
       "    </tr>\n",
       "  </tbody>\n",
       "</table>\n",
       "</div>"
      ],
      "text/plain": [
       "       Item1  Item2  Item3  Item4  Item5\n",
       "User1      4      4      4      5      3\n",
       "User2      1      4      2      4      2\n",
       "User3      2      4      5      2      2\n",
       "User4      4      2      2      4      4\n",
       "User5      1      5      5      2      5"
      ]
     },
     "execution_count": 19,
     "metadata": {},
     "output_type": "execute_result"
    }
   ],
   "source": [
    "predicted_ratings_df.head()"
   ]
  },
  {
   "cell_type": "code",
   "execution_count": 20,
   "id": "5f1694c6-0386-485b-8780-1680417a3bd3",
   "metadata": {},
   "outputs": [
    {
     "name": "stdout",
     "output_type": "stream",
     "text": [
      "MAE: 1.58, RMSE: 1.9849433241279208\n"
     ]
    }
   ],
   "source": [
    "# Calculate MAE and RMSE between true and predicted ratings\n",
    "mae = mean_absolute_error(true_ratings.flatten(), predicted_ratings.flatten())\n",
    "rmse = np.sqrt(mean_squared_error(true_ratings.flatten(), predicted_ratings.flatten()))\n",
    "\n",
    "print(f'MAE: {mae}, RMSE: {rmse}')"
   ]
  },
  {
   "cell_type": "markdown",
   "id": "bc38b811-671f-48a9-a803-b1ea4ccad40c",
   "metadata": {},
   "source": [
    "## Classification metrics\n",
    "\n",
    "\n",
    "Classification metrics are pivotal for measuring how well a recommender system's decisions align with user preferences. These metrics excel in scenarios where distinguishing between items of interest and those that are not is crucial. While the precise rating is not considered in decision support metrics, it indirectly impacts the evaluation through the order in which items are ranked.\n",
    "\n",
    "### Decision Support Metrics\n",
    "\n",
    "When examining the collective recommendations across all users, we can compute traditional metrics such as precision and recall. Items that were either present in the test dataset or received substantial user engagement are acknowledged as correctly predicted. Conversely, the absence of these criteria implies a misprediction. To facilitate these metrics, we annotate our data by classifying a set number of top recommendations (Top-N) into binary categories. Utilizing the `sklearn.metrics` module, a confusion matrix is constructed, which aids in defining our metrics as follows:\n",
    "\n",
    "|                   | Relevant       | Not Relevant   |\n",
    "|-------------------|----------------|----------------|\n",
    "| Recommended top k | True Positive (TP) | False Positive (FP) |\n",
    "| Not recommended   | False Negative (FN) | True Negative (TN) |\n",
    "\n",
    "*Confusion matrix layout used for evaluating recommendation results.*\n",
    "\n",
    "\n",
    "For illustration purpose, a dummy data set is created for demonstrating how different evaluation metrics work.\n",
    "\n",
    "The data has the schema that can be frequently found in a recommendation problem, that is, each row in the dataset is a (user, item, rating) tuple, where \"rating\" can be an ordinal rating score (e.g., discrete integers of 1, 2, 3, etc.) or an numerical float number that quantitatively indicates the preference of the user towards that item.\n",
    "\n",
    "For simplicity reason, the column of rating in the dummy dataset we use in the example represent some ordinal ratings."
   ]
  },
  {
   "cell_type": "code",
   "execution_count": 21,
   "id": "bed6e7f1-fe51-4aee-a5fc-5b56038c80b4",
   "metadata": {},
   "outputs": [],
   "source": [
    "COL_USER = \"UserId\"\n",
    "COL_ITEM = \"MovieId\"\n",
    "COL_RATING = \"Rating\"\n",
    "COL_PREDICTION = \"Rating\"\n",
    "\n",
    "df_true = pd.DataFrame(\n",
    "        {\n",
    "            COL_USER: [1, 1, 1, 2, 2, 2, 2, 2, 3, 3, 3, 3, 3, 3, 3, 3, 3, 3],\n",
    "            COL_ITEM: [1, 2, 3, 1, 4, 5, 6, 7, 2, 5, 6, 8, 9, 10, 11, 12, 13, 14],\n",
    "            COL_RATING: [5, 4, 3, 5, 5, 3, 3, 1, 5, 5, 5, 4, 4, 3, 3, 3, 2, 1],\n",
    "        }\n",
    "    )\n",
    "df_pred = pd.DataFrame(\n",
    "    {\n",
    "        COL_USER: [1, 1, 1, 2, 2, 2, 2, 2, 3, 3, 3, 3, 3, 3, 3, 3, 3, 3],\n",
    "        COL_ITEM: [3, 10, 12, 10, 3, 5, 11, 13, 4, 10, 7, 13, 1, 3, 5, 2, 11, 14],\n",
    "        COL_PREDICTION: [14, 13, 12, 14, 13, 12, 11, 10, 14, 13, 12, 11, 10, 9, 8, 7, 6, 5]\n",
    "    }\n",
    ")\n",
    "\n",
    "k = 3"
   ]
  },
  {
   "cell_type": "markdown",
   "id": "5dab92eb-c93e-4596-bb4f-98001843c58b",
   "metadata": {},
   "source": [
    "### Application Scenarios\n",
    "\n",
    "Ranking metrics are pivotal when the effectiveness of hits and/or the ranking of items is assessed:\n",
    "\n",
    "- **Hit:** Determined by relevance, a hit signifies whether the \"k\" recommended items match the user's relevant items. For instance, a hit could be a click, view, or purchase by a user. Successful hits in the recommended items reflect well on the recommender's performance. Metrics such as \"precision,\" \"recall,\" etc., gauge the accuracy of these hits.\n",
    "  \n",
    "- **Ranking:** Ranking metrics offer deeper insights into the hits by considering user preferences for the order of the hit items. Metrics like \"mean average precision,\" \"ndcg,\" etc., assess whether relevant items are positioned above less relevant or irrelevant ones in the ranking.\n",
    "\n",
    "### Determining Recommendation Relevance\n",
    "\n",
    "The relevance of a recommendation can be quantified through several methods:\n",
    "\n",
    "- **By Ranking:** Here, the relevant items are those that appear at the top of the ranked recommendations list, i.e., the top k items as determined by predicted ratings or other scores reflecting a user's preference.\n",
    "\n",
    "- **By Timestamp:** Relevance is attributed to the most recently viewed k items, ranked according to the timestamps.\n",
    "\n",
    "- **By Rating:** An item's relevance is defined by its rating or other score indicating a user's preference, with relevance granted to items surpassing a predefined threshold.\n"
   ]
  },
  {
   "cell_type": "markdown",
   "id": "01d7243b-8a14-41aa-b565-9f098254e99e",
   "metadata": {},
   "source": [
    "### Precision@k\n",
    "\n",
    "The `Precision@k` metric is used to evaluate the performance of a recommendation system based on the relevancy of the items within the top `k` recommendations given to a user. It specifically measures the proportion of recommended items that are relevant to the user among the top `k` items, where relevancy (in our simple example) is determined based on the rating score. A relevant item is typically one that has a rating above a certain threshold, indicating that the user has a preference for that item.\n",
    "\n",
    "In the provided function `calculate_precision_at_k`, the Precision@k is calculated as follows:\n",
    "\n",
    "- It first identifies the top `k` predicted items for each user by sorting the predictions based on their associated rating scores.\n",
    "- It then checks how many of these top `k` items are present in the ground truth data, which contains the actual items the users have rated and deemed relevant.\n",
    "- The precision for each user is calculated by dividing the number of relevant items found in the top `k` predictions by `k`.\n",
    "- Finally, the overall precision across all users is computed by taking the average of the individual users' precision scores.\n",
    "- It is calculated by following formula:\n",
    "\n",
    "$$ P = \\frac{\\text{ K of our recommendations that are relevant}}{\\text{ K of items we recommended}} $$\n"
   ]
  },
  {
   "cell_type": "code",
   "execution_count": 22,
   "id": "6c4d4648-be6c-4913-8611-b6d22a20a30e",
   "metadata": {},
   "outputs": [
    {
     "name": "stdout",
     "output_type": "stream",
     "text": [
      "Overall Precision@3: 0.3333333333333333\n"
     ]
    }
   ],
   "source": [
    "def calculate_precision_at_k(df_true, df_pred, k):\n",
    "    # Get Top-k predictions for every user (based on ratings).\n",
    "    top_k_pred = df_pred.groupby(COL_USER).apply(lambda x: x.nlargest(k, COL_PREDICTION)).reset_index(drop=True)\n",
    "\n",
    "    # Find out how many of Top-k items are in true ratings.\n",
    "    hits = pd.merge(top_k_pred, df_true, on=[COL_USER, COL_ITEM], how='inner')\n",
    "    hits_per_user = hits.groupby(COL_USER).size()\n",
    "    \n",
    "    # Calculate precision for each user. \n",
    "    precision_per_user = hits_per_user / k\n",
    "    \n",
    "    # Overall precision@k.\n",
    "    overall_precision = precision_per_user.mean()\n",
    "    \n",
    "    return overall_precision\n",
    "\n",
    "\n",
    "overall_precision_at_k = calculate_precision_at_k(df_true, df_pred, k)\n",
    "\n",
    "print(f\"Overall Precision@{k}: {overall_precision_at_k}\")"
   ]
  },
  {
   "cell_type": "markdown",
   "id": "20fba40e-8717-455d-9f50-4cd17905b71a",
   "metadata": {},
   "source": [
    "Example output shows an overall Precision@k of 0.3333, indicating that, on average, one-third of the top `k` recommended items were relevant to the users in terms of their actual ratings."
   ]
  },
  {
   "cell_type": "markdown",
   "id": "ca983192-e226-4c04-a7c6-d83066de3435",
   "metadata": {},
   "source": [
    "### Recall@k or HitRatio@k\n",
    "\r\n",
    "Recall@k is an important metric in the context of recommendation systems, measuring the ratio of relevant items found in the top k predictions to the total number of relevant items. This metric provides insight into how many of the items that should have been recommended were actually recommended by the system at the top k positions.\r\n",
    "\r\n",
    "In the `calculate_recall_at_k` function, the Recall@k is computed as follows:\r\n",
    "\r\n",
    "- For each user, the function starts by predicting the top k items. These are the items that the recommendation model believes the user will rate highly.\r\n",
    "- It then intersects these predicted top k items with the actual items that the user has rated highly (the ground truth), determining the number of hits (i.e., correct predictions).\r\n",
    "- The user-specific recall is calculated by dividing the number of hits by the total number of items that the user has actually rated highly.\r\n",
    "- Finally, to get the overall performance across all users, the function averages these individual recall - It is calculated by following formula:\n",
    "\n",
    "$$ r = \\frac{\\text{K of our recommendations that are relevant}}{\\text{K of all the possible relevant items}} $$al ratings.\r\n"
   ]
  },
  {
   "cell_type": "code",
   "execution_count": 23,
   "id": "da850bc1-00a9-4020-baf8-31d43235299d",
   "metadata": {},
   "outputs": [
    {
     "name": "stdout",
     "output_type": "stream",
     "text": [
      "Overall Precision@3: 0.2111111111111111\n"
     ]
    }
   ],
   "source": [
    "def calculate_recall_at_k(df_true, df_pred, k):\n",
    "    # Get Top-k predictions for every user (based on ratings).\n",
    "    top_k_pred = df_pred.groupby(COL_USER).apply(lambda x: x.nlargest(k, COL_PREDICTION)).reset_index(drop=True)\n",
    "                                                                                                     \n",
    "    # Count the total number of relevant items per user in the ground truth data                                                        \n",
    "    relevant_items_per_user = df_true.groupby(COL_USER)[COL_ITEM].count()\n",
    "    \n",
    "    # Find the intersection of top k predictions with the ground truth, which are the hits\n",
    "    hits = pd.merge(top_k_pred, df_true, on=[COL_USER, COL_ITEM], how='inner')\n",
    "\n",
    "    # Count the number of hits per user\n",
    "    hits_per_user = hits.groupby(COL_USER).size()\n",
    "    \n",
    "    # Calculate recall for each user by dividing the number of hits by the total number of relevant items\n",
    "    recall_per_user = hits_per_user / relevant_items_per_user\n",
    "    \n",
    "    # Calculate the overall average recall across all users\n",
    "    overall_recall = recall_per_user.mean()\n",
    "    \n",
    "    return overall_recall\n",
    "\n",
    "overall_recall_at_k = calculate_recall_at_k(df_true, df_pred, k)\n",
    "print(f\"Overall Precision@{k}: {overall_recall_at_k}\")"
   ]
  },
  {
   "cell_type": "markdown",
   "id": "a613ec3e-7bc5-4d75-9da5-3da08ad3c575",
   "metadata": {},
   "source": [
    "The example output indicates an overall Recall@k of approximately 0.2111, meaning that around 21% of the relevant items were captured in the top k recommendations across all users."
   ]
  },
  {
   "cell_type": "markdown",
   "id": "35073bd2-7d27-4e4f-bac3-8ff2438dcc76",
   "metadata": {},
   "source": [
    "### F1@k\n",
    "\n",
    "\r\n",
    "The F1@k score is a statistical measure used to evaluate the precision and recall balance of a recommendation system's predictions at a cutoff of top k items. It is the harmonic mean of the precision and recall, providing a single metric that balances both concerns — useful when seeking to understand the overall accuracy of the top k predictions.\r\n",
    "\r\n",
    "The function `calculate_f1_at_k` calculates the F1@k score in the following manner:\r\n",
    "\r\n",
    "- The function first checks if the sum of the overall precision and recall is greater than zero to avoid division by zero in the F1 score calculation.\r\n",
    "- If the sum is positive, it computes the F1 score using the harmonic mean formula:\r\n",
    "  \\[\r\n",
    "  F1@k = 2 \\times \\left( \\frac{overall\\_precision \\times overall\\_recall}{overall\\_precision + overall\\_recall} \\right)\r\n",
    "  \\]\r\n",
    "  which balances both precision and recall metrics.\r\n",
    "- If the sum of precision and recall is zero, indicating that there are no positive predictions or relevant items, the F1 score is set to zero.\r\n",
    "\r\n",
    "This measure is critical in systems where false positives and false negatives have similar costs, and it provides a more robust evaluation compared to using precision or recall alone.\r\n",
    "\r\n",
    "In the provided output, the F1@k score is calculated to be approximately 0.258, indicating the system's balanced performance between precision and recall for the top k recommendations.\r\n"
   ]
  },
  {
   "cell_type": "code",
   "execution_count": 24,
   "id": "95d9c091-4273-442c-9949-b4594dae03ef",
   "metadata": {},
   "outputs": [
    {
     "name": "stdout",
     "output_type": "stream",
     "text": [
      "Overall F1@3: 0.2585034013605442\n"
     ]
    }
   ],
   "source": [
    "def calculate_f1_at_k(overall_precision, overall_recall):\n",
    "    # Check if the sum of overall precision and recall is greater than zero\n",
    "    # to avoid division by zero in the F1 score calculation\n",
    "    if overall_precision + overall_recall > 0:\n",
    "        # If so, calculate the F1 score using the harmonic mean of precision and recall,\n",
    "        # which is 2 * (precision * recall) / (precision + recall)\n",
    "        overall_f1 = 2 * (overall_precision * overall_recall) / (overall_precision + overall_recall)\n",
    "    else:\n",
    "        # If the sum of precision and recall is zero, set the F1 score to zero,\n",
    "        # as there are no positive predictions and/or relevant items\n",
    "        overall_f1 = 0\n",
    "        \n",
    "    return overall_f1\n",
    "\n",
    "overall_f1_at_k = calculate_f1_at_k(overall_precision_at_k, overall_recall_at_k)\n",
    "print(f'Overall F1@{k}: {overall_f1_at_k}')"
   ]
  }
 ],
 "metadata": {
  "kernelspec": {
   "display_name": "Python 3 (ipykernel)",
   "language": "python",
   "name": "python3"
  },
  "language_info": {
   "codemirror_mode": {
    "name": "ipython",
    "version": 3
   },
   "file_extension": ".py",
   "mimetype": "text/x-python",
   "name": "python",
   "nbconvert_exporter": "python",
   "pygments_lexer": "ipython3",
   "version": "3.10.11"
  }
 },
 "nbformat": 4,
 "nbformat_minor": 5
}
