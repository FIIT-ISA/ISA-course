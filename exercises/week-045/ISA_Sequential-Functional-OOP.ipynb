{
 "cells": [
  {
   "cell_type": "code",
   "execution_count": null,
   "id": "40d37f44-b1a4-4688-a6b0-66840a80e2a3",
   "metadata": {},
   "outputs": [],
   "source": [
    "# -*- coding: utf-8 -*-\n",
    "#\n",
    "# Licensed under the Apache License, Version 2.0 (the \"License\");\n",
    "# you may not use this file except in compliance with the License.\n",
    "# You may obtain a copy of the License at\n",
    "#\n",
    "#    http://www.apache.org/licenses/LICENSE-2.0\n",
    "#\n",
    "# Unless required by applicable law or agreed to in writing, software\n",
    "# distributed under the License is distributed on an \"AS IS\" BASIS,\n",
    "# WITHOUT WARRANTIES OR CONDITIONS OF ANY KIND, either express or\n",
    "# implied.\n",
    "# See the License for the specific language governing permissions and\n",
    "# limitations under the License.\n",
    "#"
   ]
  },
  {
   "cell_type": "markdown",
   "id": "0342252e-1491-4779-bf8c-7b0b1f5ed049",
   "metadata": {},
   "source": [
    "# Neural Network Modeling with Keras\n",
    "\n",
    "Keras is a powerful deep learning library that allows for easy and fast construction of neural networks. There are three main ways to build models in Keras:\n",
    "- Sequential API\n",
    "- Functional API\n",
    "- Model Subclassing (Object-Oriented Programming)\n",
    "\n",
    "In this notebook, we will explore each method, their use cases, and how they differ from one another.\n",
    "\n",
    "## Sequential API\n",
    "\n",
    "The Sequential API is the simplest way to create a model in Keras. It allows for the linear stacking of layers where each layer has exactly one input tensor and one output tensor.\n",
    "\n",
    "Pros:\n",
    "- Basic and easy to use.\n",
    "- Suitable for most deep learning models with a single input and output.\n",
    "\n",
    "Cons:\n",
    "- Limited flexibility - not suitable for models with shared layers, multiple inputs, or multiple outputs.\n",
    "\n",
    "### Example: Creating a Simple Model"
   ]
  },
  {
   "cell_type": "code",
   "execution_count": null,
   "id": "6a35b803-65d1-4645-9d6e-f094c475a052",
   "metadata": {},
   "outputs": [],
   "source": [
    "import matplotlib.pyplot as plt\n",
    "from tensorflow.keras.models import Sequential\n",
    "from tensorflow.keras.layers import Dense\n",
    "\n",
    "# Define a Sequential model\n",
    "seq_model = Sequential()\n",
    "\n",
    "# Add layers\n",
    "seq_model.add(Dense(4, input_shape=(10, 2), activation='relu'))\n",
    "seq_model.add(Dense(4, activation='relu'))\n",
    "seq_model.add(Dense(1, activation='sigmoid'))\n",
    "\n",
    "# Model summary\n",
    "seq_model.summary()"
   ]
  },
  {
   "cell_type": "markdown",
   "id": "5f8649c4-994c-42ff-8740-b9710a77b5ab",
   "metadata": {},
   "source": [
    "## Functional API\r\n",
    "\r\n",
    "The Functional API offers more complex and flexible model architectures. It is used for models that require layers to have multiple inputs and outputs or shared layers.\r\n",
    "\r\n",
    "Pros:\r\n",
    "- Highly flexible, allowing for complex model architectures.\r\n",
    "- Enables the creation of models with multiple inputs and outputs.\r\n",
    "\r\n",
    "Cons:\r\n",
    "- Slightly more complex syntax due to its flexibility.\r\n",
    "\r\n",
    "### Example: Creating a Multi-Input Model"
   ]
  },
  {
   "cell_type": "code",
   "execution_count": null,
   "id": "c2b8dce7-643f-49b1-821a-62a12c10d93e",
   "metadata": {},
   "outputs": [],
   "source": [
    "from tensorflow.keras.layers import Input, Dense\n",
    "from tensorflow.keras.models import Model\n",
    "\n",
    "# This returns a tensor\n",
    "inputs = Input(shape=(10, 2))\n",
    "\n",
    "# a layer instance is callable on a tensor, and returns a tensor\n",
    "x = Dense(4, activation='relu')(inputs)\n",
    "x = Dense(4, activation='relu')(x)\n",
    "outputs = Dense(1, activation='sigmoid')(x)\n",
    "\n",
    "# Create a model\n",
    "func_model = Model(inputs=inputs, outputs=outputs)\n",
    "\n",
    "# Model summary\n",
    "func_model.summary()"
   ]
  },
  {
   "cell_type": "markdown",
   "id": "63f1ab47-5a2e-4995-89ad-f8b10371c326",
   "metadata": {},
   "source": [
    "## Model Subclassing\r\n",
    "\r\n",
    "Model subclassing is a way to create fully-customizable models by subclassing the `Model` class. This is useful when you need to implement custom behavior during the model's forward pass.\r\n",
    "\r\n",
    "Pros:\r\n",
    "- Offers the highest flexibility.\r\n",
    "- Allows for complex, customizable behavior.\r\n",
    "\r\n",
    "Cons:\r\n",
    "- More complex and requires a deeper understanding of classes.\r\n",
    "\r\n",
    "### Example: Custom Model with OOP"
   ]
  },
  {
   "cell_type": "code",
   "execution_count": null,
   "id": "e79d7c77-65d0-4bcd-bf96-02f4c4b5f506",
   "metadata": {},
   "outputs": [],
   "source": [
    "import tensorflow as tf\n",
    "\n",
    "class MyModel(tf.keras.Model):\n",
    "    def __init__(self):\n",
    "        super(MyModel, self).__init__()\n",
    "        # Define layers here\n",
    "        self.dense1 = tf.keras.layers.Dense(4, activation='relu')\n",
    "        # Add more layers as needed\n",
    "\n",
    "    def call(self, inputs, training=None):\n",
    "        # Define forward pass here\n",
    "        x = self.dense1(inputs)\n",
    "        # Continue with forward pass as needed\n",
    "        return x\n",
    "\n",
    "# Instantiate the model\n",
    "OOP_model = MyModel()\n",
    "\n",
    "# Build the model by specifying the input shape\n",
    "OOP_model.build((None, 10, 2))\n",
    "\n",
    "# Now you can view the summary\n",
    "OOP_model.summary()"
   ]
  },
  {
   "cell_type": "markdown",
   "id": "b97df442-01e3-41ca-a17d-ecdcf09a266b",
   "metadata": {},
   "source": [
    "## Comparison\r\n",
    "\r\n",
    "Here's a quick comparison of the three approaches:\r\n",
    "\r\n",
    "- **Sequential API**: Best for simple models with one input and output stream. Pros: simplicity, ease of use. Cons: not flexible for complex architectures.\r\n",
    "- **Functional API**: Allows complex models with multiple inputs/outputs. Pros: flexibility, control. Cons: increased complexity.\r\n",
    "- **Model Subclassing**: Offers complete customization. Pros: total control, custom behavior. Cons: requires in-depth OOP knowledge.\r\n",
    "\r\n",
    "Each API serves different needs and complexities in model  kind of layer.\r\n",
    "\r\n",
    "## Conclusion\r\n",
    "\r\n",
    "Keras provides a powerful set of tools to build neural network models suited to a wide range of problems. Understanding when and how to use each can greatly enhance your model-building experience.\r\n",
    "\r\n",
    "Remember:\r\n",
    "- Use Sequential API for straightforward tasks.\r\n",
    "- Switch to Functional API for more complex models.\r\n",
    "- Opt for Model Subclassing when you need full control and customization.\r\n",
    "\r\n",
    "## Further Resources\r\n",
    "\r\n",
    "- [Keras Documentation](https://keras.io)\r\n",
    "- [TensorFlow Tutorials](https://www.tensorflow.org/tutorials)\r\n"
   ]
  }
 ],
 "metadata": {
  "kernelspec": {
   "display_name": "Python 3 (ipykernel)",
   "language": "python",
   "name": "python3"
  },
  "language_info": {
   "codemirror_mode": {
    "name": "ipython",
    "version": 3
   },
   "file_extension": ".py",
   "mimetype": "text/x-python",
   "name": "python",
   "nbconvert_exporter": "python",
   "pygments_lexer": "ipython3",
   "version": "3.9.18"
  }
 },
 "nbformat": 4,
 "nbformat_minor": 5
}
