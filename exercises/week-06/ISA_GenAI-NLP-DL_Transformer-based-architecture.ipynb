{
 "cells": [
  {
   "cell_type": "code",
   "execution_count": null,
   "id": "c59cf562-1687-4597-9746-4818ab13adf4",
   "metadata": {},
   "outputs": [],
   "source": [
    "# -*- coding: utf-8 -*-\n",
    "#\n",
    "# Licensed under the Apache License, Version 2.0 (the \"License\");\n",
    "# you may not use this file except in compliance with the License.\n",
    "# You may obtain a copy of the License at\n",
    "#\n",
    "#    http://www.apache.org/licenses/LICENSE-2.0\n",
    "#\n",
    "# Unless required by applicable law or agreed to in writing, software\n",
    "# distributed under the License is distributed on an \"AS IS\" BASIS,\n",
    "# WITHOUT WARRANTIES OR CONDITIONS OF ANY KIND, either express or\n",
    "# implied.\n",
    "# See the License for the specific language governing permissions and\n",
    "# limitations under the License.\n",
    "#"
   ]
  },
  {
   "cell_type": "markdown",
   "id": "88b62faf-a089-45dd-a680-379ca11acdc1",
   "metadata": {},
   "source": [
    "# Transformer-based Architecture\n",
    "\n",
    "Transformers are a type of machine learning model designed for manipulating sequence data, such as text or time series. Since their inception in 2017, transformers have become the cornerstone of advanced natural language processing (NLP) models. Transformers are significant due to their ability to capture complex relationships in data and their flexibility in various tasks, ranging from language modeling to text understanding. They form the foundation for some of the most powerful NLP models, such as BERT or ChatGPT.\n",
    "\n",
    "### Applications of Transformers\n",
    "\n",
    "Transformers are used in a wide range of applications, including:\n",
    "\n",
    "- **Text Generation:** The ability to generate text, which is highly valuable in content creation, chatbots, and other text-based applications.\n",
    "- **Language Translation:** Transformers are employed for translating text between different languages with high accuracy.\n",
    "- **Text Summarization:** Using transformers to create concise summaries of longer texts.\n",
    "- **Question-Answering:** Utilizing transformers to automatically answer questions based on provided textual information.\n",
    "- **Sentiment Analysis:** Transformer models are capable of recognizing emotional sentiment in text.\n",
    "\n",
    "### Key Characteristics of Transformers\n",
    "\n",
    "#### Encoder-Decoder Structure\n",
    "\n",
    "Most transformer architectures follow an encoder-decoder structure. The encoder processes input data, and the decoder generates outputs. This structure enables efficient data processing and generation.\n",
    "- **Encoder:** The encoder consists of a sequence of encoder blocks, each containing an attention layer and a feed-forward neural network. Encoders are responsible for converting input data into representations suitable for further processing.\n",
    "- **Decoder:** The decoder has a similar structure to the encoder but also includes an additional attention mechanism that focuses on the encoder's outputs, allowing it to generate target data sequences.\n",
    "\n",
    "#### Attention Mechanism\n",
    "\n",
    "Transformer models employ an attention mechanism that allows them to weigh the importance of different parts of input data. This mechanism enables the models to \"focus\" on crucial information within data sequences. There are three main types of attention:\n",
    "- **Self-Attention:** Each element in the input sequence can interact with others and gather information from the entire input.\n",
    "- **Scaled Dot-Product Attention:** This mechanism calculates the importance of different parts of the input data through a scaled scalar product operation, ensuring stable training. The resulting attention scores determine the significance of each input element in the current context.\n",
    "- **Encoder-Decoder Attention:** The decoder focuses on relevant parts of the input when generating output.\n",
    "- **Multi-Head Attention:** The model can simultaneously focus on different positions in the input data and gain various \"views\" of the input.\n",
    "\n",
    "#### Working Principle of the Transformer\n",
    "\n",
    "The transformer follows an encoder-decoder structure, where each encoder reads input data, and each decoder generates outputs. Attention layers in these blocks allow the model to dynamically adapt and focus on critical information at each prediction step."
   ]
  },
  {
   "cell_type": "markdown",
   "id": "a9a0586e-6bd0-4675-a718-5c6f044b23d1",
   "metadata": {},
   "source": [
    "# Real-Life Transformer Models\n",
    "\r",
    "Here are several models developed in the technology industry, based on the transformer architecture:\n",
    "\n",
    "\n",
    "### BERT (Bidirectional Encoder Representations from Transformers)\n",
    "BERT is a revolutionary model in the field of Natural Language Processing (NLP) that Google introduced. Unlike older models that only interpreted text in one direction, BERT analyzes the context of words by looking both at what comes before and after them in a sentence. This bidirectional understanding significantly enhances how machines grasp the subtleties of language. At the core of BERT is the Transformer architecture, which employs an attention mechanism. This allows BERT to 'pay attention' to specific parts of a sentence more than others, thus learning the complexities of language patterns more effectively.\n",
    "\n",
    "BERT's effectiveness in processing language lies in its structured approach, which involves two critical phases:\n",
    "- **Pre-training** - BERT is fed with massive amounts of text data. During this phase, it learns two main skills: predicting the hidden words in a sentence(Masked Language Model task), and discerning whether one sentence logically follows another(Next Sentence Prediction task). This pre-training equips BERT with a broad understanding of language.\n",
    "- **Fine-tuning** - The pre-trained BERT model is tailored to perform specific tasks. Starting with the knowledge gained in pre-training, the model undergoes additional training on a narrower dataset relevant to the particular task. This fine-tuning process allows BERT to adjust its language comprehension to the nuances of the target task. An example of applying BERT is in sentiment analysis, where it assesses the emotional tone behind a series of words to understand the attitudes, opinions, and emotions expressed."
   ]
  },
  {
   "cell_type": "markdown",
   "id": "552c8f3d-8b94-4908-9d1c-4bd7c5ec8955",
   "metadata": {},
   "source": [
    "# Practical Application: Applying BERT for sentiment analysis\n",
    "For the practical part, we will use the IMDB movie review dataset, which is a set of reviews from the Internet Movie Database (IMDB) labeled as positive or negative.\n",
    "\n",
    "**IMPORTANT** This notebook is running with **[reqs-torch.txt](https://github.com/FIIT-ISA/2023-2024/blob/main/exercises/reqs-torch.txt)** in CPU. The version in GPU is still not tested with pytorch nor Tensorflow-gpu. The running time is nearly **15 min** in desktop."
   ]
  },
  {
   "cell_type": "markdown",
   "id": "f6eb5e9d-c2ac-4611-89e2-15d0a191195a",
   "metadata": {},
   "source": [
    "**Step 1:** Importing the necessary libraries and loading the Dataset"
   ]
  },
  {
   "cell_type": "code",
   "execution_count": 1,
   "id": "f4887245-3e6c-4166-9411-ad60c09a14cd",
   "metadata": {},
   "outputs": [],
   "source": [
    "# Importing the necessary libraries\n",
    "import pandas as pd\n",
    "import seaborn as sns\n",
    "import matplotlib.pyplot as plt\n",
    "from sklearn.metrics import confusion_matrix, roc_curve, auc\n",
    "from datasets import load_dataset\n",
    "from transformers import AutoTokenizer, AutoModelForSequenceClassification, TrainingArguments, Trainer\n",
    "\n",
    "# Variables to set the number of epochs and samples\n",
    "num_epochs = 10\n",
    "num_samples = 100  # when you want to use all data set this to 0\n",
    "\n",
    "# Load the IMDB dataset\n",
    "dataset = load_dataset('imdb')"
   ]
  },
  {
   "cell_type": "markdown",
   "id": "60828826-8b25-4871-b0c6-a83eaee96eb7",
   "metadata": {},
   "source": [
    "**Step 2:** Preprocessing dataset with Tokenization"
   ]
  },
  {
   "cell_type": "markdown",
   "id": "cfdd7b8a-8caa-4c26-bfb1-b7b583de4610",
   "metadata": {
    "scrolled": true
   },
   "source": [
    "Before feeding the data into BERT, we need to tokenize our text. This means converting our sentences into a format that BERT understands, which involves breaking down sentences into words and subwords, and then mapping these to indexes."
   ]
  },
  {
   "cell_type": "code",
   "execution_count": 2,
   "id": "9c01f025-0b4d-42f9-a921-f4c2e2708d39",
   "metadata": {},
   "outputs": [
    {
     "data": {
      "application/vnd.jupyter.widget-view+json": {
       "model_id": "20e89efe29334281992f97d4dcdd2650",
       "version_major": 2,
       "version_minor": 0
      },
      "text/plain": [
       "Map:   0%|          | 0/25000 [00:00<?, ? examples/s]"
      ]
     },
     "metadata": {},
     "output_type": "display_data"
    },
    {
     "data": {
      "application/vnd.jupyter.widget-view+json": {
       "model_id": "3aac6ebd32fb4966b9e3739727e3535b",
       "version_major": 2,
       "version_minor": 0
      },
      "text/plain": [
       "Map:   0%|          | 0/25000 [00:00<?, ? examples/s]"
      ]
     },
     "metadata": {},
     "output_type": "display_data"
    },
    {
     "data": {
      "application/vnd.jupyter.widget-view+json": {
       "model_id": "d098fd22d5224ea2a4aaaaf77abcd7ab",
       "version_major": 2,
       "version_minor": 0
      },
      "text/plain": [
       "Map:   0%|          | 0/50000 [00:00<?, ? examples/s]"
      ]
     },
     "metadata": {},
     "output_type": "display_data"
    }
   ],
   "source": [
    "# Initialize the BERT tokenizer using the 'bert-base-uncased' model\n",
    "tokenizer = AutoTokenizer.from_pretrained('bert-base-uncased')\n",
    "# Define a function to tokenize examples from the dataset\n",
    "def tokenize_function(examples):\n",
    "    # Tokenize the text, padding sequences to the max length and truncating if necessary\n",
    "    return tokenizer(examples[\"text\"], padding=\"max_length\", truncation=True)\n",
    "# Apply the tokenize_function to the entire dataset in batches\n",
    "tokenized_datasets = dataset.map(tokenize_function, batched=True)"
   ]
  },
  {
   "cell_type": "code",
   "execution_count": 3,
   "id": "5ad6504b-51da-4aaf-bbf3-6bc3f59655de",
   "metadata": {},
   "outputs": [],
   "source": [
    "# Creating small shuffled training and evaluation datasets\n",
    "# If you set num_samples to 0 you will use all data\n",
    "if num_samples == 0:\n",
    "    train_dt = tokenized_datasets[\"train\"].shuffle(seed=42)\n",
    "    eval_dt = tokenized_datasets[\"test\"].shuffle(seed=42)\n",
    "else:\n",
    "    train_dt = tokenized_datasets[\"train\"].shuffle(seed=42).select(range(num_samples)) \n",
    "    eval_dt = tokenized_datasets[\"test\"].shuffle(seed=42).select(range(num_samples))"
   ]
  },
  {
   "cell_type": "markdown",
   "id": "4c57fe4e-1712-4351-981a-ac816a08e928",
   "metadata": {},
   "source": [
    "**Step 3:** Loading pre-trained model"
   ]
  },
  {
   "cell_type": "code",
   "execution_count": 4,
   "id": "4edaa8c6-0c67-494d-ad54-72a7e3fa78f7",
   "metadata": {},
   "outputs": [
    {
     "name": "stderr",
     "output_type": "stream",
     "text": [
      "Some weights of BertForSequenceClassification were not initialized from the model checkpoint at bert-base-uncased and are newly initialized: ['classifier.weight', 'classifier.bias']\n",
      "You should probably TRAIN this model on a down-stream task to be able to use it for predictions and inference.\n"
     ]
    }
   ],
   "source": [
    "model = AutoModelForSequenceClassification.from_pretrained('bert-base-uncased', num_labels=2)"
   ]
  },
  {
   "cell_type": "markdown",
   "id": "b91fdae4-81e8-4bb1-a665-6ef884aa4342",
   "metadata": {},
   "source": [
    "**Step 4:** Definition of training arguments"
   ]
  },
  {
   "cell_type": "code",
   "execution_count": 5,
   "id": "b9dd237d-5e49-4206-a064-0f7cb913d810",
   "metadata": {},
   "outputs": [],
   "source": [
    "training_args = TrainingArguments(\"test_trainer\", evaluation_strategy=\"epoch\", use_cpu=True, num_train_epochs=num_epochs)"
   ]
  },
  {
   "cell_type": "markdown",
   "id": "e01e2cb5-f237-40bb-91fc-e91db32f5c30",
   "metadata": {},
   "source": [
    "**Step 5:** Creating Trainer instance and start training"
   ]
  },
  {
   "cell_type": "code",
   "execution_count": 6,
   "id": "69b9f174-9acf-4d59-a0c6-c9897db8b656",
   "metadata": {},
   "outputs": [
    {
     "data": {
      "text/html": [
       "\n",
       "    <div>\n",
       "      \n",
       "      <progress value='130' max='130' style='width:300px; height:20px; vertical-align: middle;'></progress>\n",
       "      [130/130 48:03, Epoch 10/10]\n",
       "    </div>\n",
       "    <table border=\"1\" class=\"dataframe\">\n",
       "  <thead>\n",
       " <tr style=\"text-align: left;\">\n",
       "      <th>Epoch</th>\n",
       "      <th>Training Loss</th>\n",
       "      <th>Validation Loss</th>\n",
       "    </tr>\n",
       "  </thead>\n",
       "  <tbody>\n",
       "    <tr>\n",
       "      <td>1</td>\n",
       "      <td>No log</td>\n",
       "      <td>0.689855</td>\n",
       "    </tr>\n",
       "    <tr>\n",
       "      <td>2</td>\n",
       "      <td>No log</td>\n",
       "      <td>0.664509</td>\n",
       "    </tr>\n",
       "    <tr>\n",
       "      <td>3</td>\n",
       "      <td>No log</td>\n",
       "      <td>0.362065</td>\n",
       "    </tr>\n",
       "    <tr>\n",
       "      <td>4</td>\n",
       "      <td>No log</td>\n",
       "      <td>0.508870</td>\n",
       "    </tr>\n",
       "    <tr>\n",
       "      <td>5</td>\n",
       "      <td>No log</td>\n",
       "      <td>0.694143</td>\n",
       "    </tr>\n",
       "    <tr>\n",
       "      <td>6</td>\n",
       "      <td>No log</td>\n",
       "      <td>0.808403</td>\n",
       "    </tr>\n",
       "    <tr>\n",
       "      <td>7</td>\n",
       "      <td>No log</td>\n",
       "      <td>0.800920</td>\n",
       "    </tr>\n",
       "    <tr>\n",
       "      <td>8</td>\n",
       "      <td>No log</td>\n",
       "      <td>0.762910</td>\n",
       "    </tr>\n",
       "    <tr>\n",
       "      <td>9</td>\n",
       "      <td>No log</td>\n",
       "      <td>0.759985</td>\n",
       "    </tr>\n",
       "    <tr>\n",
       "      <td>10</td>\n",
       "      <td>No log</td>\n",
       "      <td>0.759610</td>\n",
       "    </tr>\n",
       "  </tbody>\n",
       "</table><p>"
      ],
      "text/plain": [
       "<IPython.core.display.HTML object>"
      ]
     },
     "metadata": {},
     "output_type": "display_data"
    },
    {
     "data": {
      "text/plain": [
       "TrainOutput(global_step=130, training_loss=0.18450786884014422, metrics={'train_runtime': 2899.5251, 'train_samples_per_second': 0.345, 'train_steps_per_second': 0.045, 'total_flos': 263111055360000.0, 'train_loss': 0.18450786884014422, 'epoch': 10.0})"
      ]
     },
     "execution_count": 6,
     "metadata": {},
     "output_type": "execute_result"
    }
   ],
   "source": [
    "# Creating Trainer instance\n",
    "trainer = Trainer(\n",
    "    model=model, args=training_args, train_dataset=train_dt, eval_dataset=eval_dt\n",
    ")\n",
    "# Starting training\n",
    "trainer.train()"
   ]
  },
  {
   "cell_type": "markdown",
   "id": "da0243a8-ad9a-4749-bca7-e5f58449776b",
   "metadata": {},
   "source": [
    "**Step 6:** Evaluation"
   ]
  },
  {
   "cell_type": "code",
   "execution_count": 7,
   "id": "2f40c5b2-68ba-43b7-ba90-128c07533d4e",
   "metadata": {},
   "outputs": [
    {
     "data": {
      "text/html": [],
      "text/plain": [
       "<IPython.core.display.HTML object>"
      ]
     },
     "metadata": {},
     "output_type": "display_data"
    },
    {
     "data": {
      "image/png": "[encoded data removed]",
      "text/plain": [
       "<Figure size 582.48x360 with 1 Axes>"
      ]
     },
     "metadata": {
      "needs_background": "light"
     },
     "output_type": "display_data"
    },
    {
     "data": {
      "image/png": "[encoded data removed]",
      "text/plain": [
       "<Figure size 432x288 with 2 Axes>"
      ]
     },
     "metadata": {
      "needs_background": "light"
     },
     "output_type": "display_data"
    }
   ],
   "source": [
    "# Here, we use the trained BERT model to make predictions on the evaluation dataset.\n",
    "# The `trainer.predict` function returns the model's predictions for the provided evaluation dataset.\n",
    "predictions = trainer.predict(eval_dt)\n",
    "\n",
    "# The Receiver Operating Characteristic (ROC) curve\n",
    "# ROC curve is a graphical representation of a classifier's capability.\n",
    "# It illustrates the trade-off between the true positive rate and the false positive rate at various threshold settings.\n",
    "fpr, tpr, _ = roc_curve(eval_dt['label'], predictions.predictions[:, 1])\n",
    "roc_auc = auc(fpr, tpr)\n",
    "\n",
    "# Plotting the ROC curve with matplotlib\n",
    "plt.figure(figsize=(1.618 * 5, 5))\n",
    "plt.plot(fpr, tpr, color='darkorange', lw=2, label='ROC curve (area = %0.2f)' % roc_auc)\n",
    "plt.plot([0, 1], [0, 1], color='navy', lw=2, linestyle='--')\n",
    "plt.xlim([0.0, 1.0])\n",
    "plt.ylim([0.0, 1.05])\n",
    "plt.xlabel('False Positive Rate')\n",
    "plt.ylabel('True Positive Rate')\n",
    "plt.title('Receiver operating characteristic')\n",
    "plt.legend(loc=\"lower right\")\n",
    "plt.show()\n",
    "\n",
    "# Confusion matrix\n",
    "# A confusion matrix is a table that visualizes the performance of a classification model.\n",
    "# It provides counts of correct and incorrect predictions broken down by actual classes.\n",
    "cm = confusion_matrix(eval_dt['label'], predictions.predictions.argmax(-1))\n",
    "\n",
    "# We use a heatmap for a better visualization of the confusion matrix.\n",
    "# Using `sns.heatmap` gives us a color-coded overview that is easier to interpret.\n",
    "sns.heatmap(cm, annot=True, fmt='d')\n",
    "plt.title('Confusion Matrix')\n",
    "plt.show()"
   ]
  },
  {
   "cell_type": "markdown",
   "id": "76bd8759-a7ba-4caf-a2f7-f44174e8c995",
   "metadata": {},
   "source": [
    "**Step 7:** Applying model to a new sample"
   ]
  },
  {
   "cell_type": "code",
   "execution_count": 8,
   "id": "530da125-8059-475d-8b0d-ee0364554819",
   "metadata": {},
   "outputs": [
    {
     "name": "stdout",
     "output_type": "stream",
     "text": [
      "Negative sentiment\n"
     ]
    }
   ],
   "source": [
    "# We start by defining a new sample text for which we want to predict the sentiment.\n",
    "sample_text = \"This is a bad movie. I really hate it.\"\n",
    "\n",
    "# The tokenizer converts the sample text into a format that can be understood by the BERT model.\n",
    "# 'padding' to 'max_length' ensures that all inputs are padded to the same length, here it is set to 512 tokens.\n",
    "# 'truncation' is set to True to ensure that inputs longer than 512 tokens are truncated.\n",
    "# 'return_tensors' set to \"pt\" means that the tokenizer will return PyTorch tensors.\n",
    "sample_inputs = tokenizer(sample_text, padding=\"max_length\", truncation=True, max_length=512, return_tensors=\"pt\")\n",
    "\n",
    "# If a GPU is available, we move the inputs to the GPU to speed up prediction.\n",
    "# 'training_args.device' is used to identify the device that was used during training (either a CPU or a GPU).\n",
    "sample_inputs.to(training_args.device)\n",
    "\n",
    "# Making a prediction by passing the tokenized input through the model.\n",
    "# The model outputs 'logits', which are raw, unnormalized scores for each class.\n",
    "predictions = model(**sample_inputs)\n",
    "\n",
    "# The predicted class is the one with the highest score after applying the argmax function.\n",
    "# '.item()' is used to convert the result from a tensor to a Python integer.\n",
    "predicted_class = predictions.logits.argmax(-1).item()\n",
    "\n",
    "# The mapping of the class indices to sentiment (e.g., 1 for positive and 0 for negative) \n",
    "if predicted_class == 1:\n",
    "    print(\"Positive sentiment\")\n",
    "else:\n",
    "    print(\"Negative sentiment\")"
   ]
  },
  {
   "cell_type": "markdown",
   "id": "d5bbc5d1-41a2-44e4-b8e9-c7f50097516b",
   "metadata": {},
   "source": [
    "**Try out:** Be inventive! You're encouraged to modify the sample_text to any random text you prefer. See what sentiment will model generate."
   ]
  },
  {
   "cell_type": "markdown",
   "id": "40fb8eb4-6987-4b14-97c5-8dd1dcec426a",
   "metadata": {},
   "source": [
    "# GPT (Generative Pre-Trained Transformer)\n",
    "GPT model family, developed by OpenAI, represents the forefront of advancements in Natural Language Processing (NLP). It is distinguished by its remarkable proficiency in generating text that closely mimics human writing in coherence and context sensitivity. While models such as BERT are engineered primarily for text interpretation tasks, GPT model family excels in the generation of text. It is versatile in its utility, capable of performing an array of NLP tasks such as translating languages, providing responses to queries, condensing lengthy documents, and even producing novel written works."
   ]
  },
  {
   "cell_type": "markdown",
   "id": "a3f00367-a81b-4aea-9365-f7bab8e967fb",
   "metadata": {},
   "source": [
    "## Practical Application: Using GPT model for generating text"
   ]
  },
  {
   "cell_type": "markdown",
   "id": "c70775ce-e107-406d-a4d5-1afb31a1446b",
   "metadata": {},
   "source": [
    "**Step 1:** Importing necessary libraries"
   ]
  },
  {
   "cell_type": "code",
   "execution_count": 9,
   "id": "89e91619-f452-43dc-bce3-a396493ba6b7",
   "metadata": {},
   "outputs": [],
   "source": [
    "import torch\n",
    "from transformers import GPT2LMHeadModel, GPT2Tokenizer"
   ]
  },
  {
   "cell_type": "markdown",
   "id": "fc1703a1-445b-4e38-9c60-4ee8dd0a1672",
   "metadata": {},
   "source": [
    "**Step 2:** Loading the pretrained GPT model and tokenizer"
   ]
  },
  {
   "cell_type": "code",
   "execution_count": 15,
   "id": "77645157-875e-4290-a6cd-7dd5adb7a274",
   "metadata": {},
   "outputs": [],
   "source": [
    "# For this example, we use 'gpt2' as a stand-in for the GPT model family \n",
    "# since the actual GPT-3 model and higher versions are still not directly available as a part of the transformers library.\n",
    "# The 'gpt2', 'gpt2-medium', and 'gpt2-large' are smaller variants but still offer substantial language generation capabilities.\n",
    "\n",
    "model_name = 'gpt2'\n",
    "tokenizer = GPT2Tokenizer.from_pretrained(model_name)\n",
    "model = GPT2LMHeadModel.from_pretrained(model_name, pad_token_id=tokenizer.eos_token_id)"
   ]
  },
  {
   "cell_type": "markdown",
   "id": "ae220643-4ef7-4e73-977b-ae137a91eead",
   "metadata": {},
   "source": [
    "**Step 3:** Define a prompt and tokenize it"
   ]
  },
  {
   "cell_type": "code",
   "execution_count": 11,
   "id": "05a20d8b-e686-44ea-934e-55a35d972b63",
   "metadata": {},
   "outputs": [],
   "source": [
    "# Define a prompt for text generation\n",
    "prompt = \"Machine learning is fun, because\"\n",
    "\n",
    "# Tokenize the prompt to convert the text to a format the model can understand (numerical tokens)\n",
    "input_ids = tokenizer.encode(prompt, return_tensors='pt')"
   ]
  },
  {
   "cell_type": "markdown",
   "id": "14bb7eb5-46c6-4fb4-9a93-17c9c83c8e64",
   "metadata": {},
   "source": [
    "**Step 4:** Creating an attention mask and generating a text with it"
   ]
  },
  {
   "cell_type": "code",
   "execution_count": 12,
   "id": "dec8e854-082d-4e6d-8aab-c120334ab69d",
   "metadata": {},
   "outputs": [],
   "source": [
    "# Create an attention mask\n",
    "# This mask tells the model which tokens should be paid attention to and which should not (e.g., padding tokens)\n",
    "attention_mask = torch.ones(input_ids.shape, dtype=torch.long, device=input_ids.device)\n",
    "\n",
    "# Generate text with attention mask\n",
    "# The model takes the tokenized input and generates text based on the patterns it has learned during training.\n",
    "# The various parameters control the text generation process, such as how long the output should be (max_length),\n",
    "# preventing the model from repeating the same n-grams (no_repeat_ngram_size), and how many tokens to consider at a time (top_k)\n",
    "output = model.generate(input_ids, max_length=100, num_return_sequences=1, no_repeat_ngram_size=2, top_k=50, attention_mask=attention_mask)"
   ]
  },
  {
   "cell_type": "markdown",
   "id": "34e1e81b-19be-4b49-8ec0-b5c9209966bf",
   "metadata": {},
   "source": [
    "**Step 5:** Decoding and printing the generated text"
   ]
  },
  {
   "cell_type": "code",
   "execution_count": 13,
   "id": "0050a20a-5b1b-4591-a4c1-c4a9731e0acd",
   "metadata": {},
   "outputs": [
    {
     "name": "stdout",
     "output_type": "stream",
     "text": [
      "Machine learning is fun, because it's easy to learn. But it also means that you can't just learn to do it. You have to be able to understand the world around you.\n",
      "\n",
      "I'm not saying that learning to code is easy. I'm saying it is a lot easier than learning how to program. It's not that hard. And it takes a little bit of practice. So I think that's a good thing.\n"
     ]
    }
   ],
   "source": [
    "# Decode the generated text from tokens back to human-readable text, while skipping any special tokens that are used for internal model purposes\n",
    "generated_text = tokenizer.decode(output[0], skip_special_tokens=True)\n",
    "print(generated_text)"
   ]
  },
  {
   "cell_type": "markdown",
   "id": "b883fee4-41ca-4197-b4ea-8c8a0ccba947",
   "metadata": {},
   "source": [
    "**Try out:** Be inventive! You're encouraged to modify the prompt to any random text you prefer. See what unique text the model generates with your new prompt."
   ]
  },
  {
   "cell_type": "markdown",
   "id": "9495a263-ff4c-44f3-80cc-34934d35ecec",
   "metadata": {},
   "source": [
    "# Other Real-Life Transformer Models\n",
    "- **LaMDA (Language Model for Dialogue Applications):** LaMDA is a language model developed by Google that's designed specifically for creating more natural and open-ended conversations. Unlike most traditional language models that are trained on a variety of tasks, LaMDA is fine-tuned to excel in dialogue, aiming to understand the nuances of human communication such as humor, irony, and complex topics.\n",
    "- **ChatGPT:** ChatGPT is a language model developed by OpenAI, based on the GPT (Generative Pretrained Transformer) architecture. It's designed to generate human-like text based on the prompts it receives. ChatGPT can be used for a variety of applications, such as answering questions, writing essays, creating content, coding, and more. (Link: https://chat.openai.com/)\n",
    "- **Llama 2:** Llama 2 is open source and his models are trained on 2 trillion tokens. (More information origin website:https://ai.meta.com/resources/models-and-libraries/llama/ . Also github: https://github.com/facebookresearch/llama#llama-2)"
   ]
  },
  {
   "cell_type": "code",
   "execution_count": null,
   "id": "ff23dfd6-e9a0-479f-9bbf-1fb6d23f612d",
   "metadata": {},
   "outputs": [],
   "source": []
  }
 ],
 "metadata": {
  "kernelspec": {
   "display_name": "Python 3 (ipykernel)",
   "language": "python",
   "name": "python3"
  },
  "language_info": {
   "codemirror_mode": {
    "name": "ipython",
    "version": 3
   },
   "file_extension": ".py",
   "mimetype": "text/x-python",
   "name": "python",
   "nbconvert_exporter": "python",
   "pygments_lexer": "ipython3",
   "version": "3.10.12"
  }
 },
 "nbformat": 4,
 "nbformat_minor": 5
}
