{
 "cells": [
  {
   "cell_type": "code",
   "execution_count": null,
   "metadata": {},
   "outputs": [],
   "source": [
    "# -*- coding: utf-8 -*-\n",
    "#\n",
    "# Licensed under the Apache License, Version 2.0 (the \"License\");\n",
    "# you may not use this file except in compliance with the License.\n",
    "# You may obtain a copy of the License at\n",
    "#\n",
    "#    http://www.apache.org/licenses/LICENSE-2.0\n",
    "#\n",
    "# Unless required by applicable law or agreed to in writing, software\n",
    "# distributed under the License is distributed on an \"AS IS\" BASIS,\n",
    "# WITHOUT WARRANTIES OR CONDITIONS OF ANY KIND, either express or\n",
    "# implied.\n",
    "# See the License for the specific language governing permissions and\n",
    "# limitations under the License.\n",
    "#"
   ]
  },
  {
   "cell_type": "markdown",
   "metadata": {
    "id": "2WCFudYlWw-V"
   },
   "source": [
    "# Demand prediction for bike sharing using LSTM \n",
    "\n",
    "**Based on:**\n",
    "- https://github.com/curiousily/Deep-Learning-For-Hackers,\n",
    "- https://curiousily.com/posts/demand-prediction-with-lstms-using-tensorflow-2-and-keras-in-python/\n",
    "\n",
    "**Dataset:** https://www.kaggle.com/hmavrodiev/london-bike-sharing-dataset\n",
    "\n",
    "---\n",
    "\n",
    "1. **Trend Prediction in Deep Learning:**\n",
    "\n",
    "   Trend prediction in deep learning refers to the process of analyzing historical data to forecast future trends. This process is critical in fields like finance, marketing, and meteorology, where understanding future trends can lead to better decision-making.\n",
    "\n",
    "2. **Role of Time Series Data in Trend Prediction:**\n",
    "\n",
    "   \"Time Series Data\" refers to a sequence of data points collected over time intervals. It's like taking snapshots of specific measurements at regular intervals. Think of it like recording the temperature every hour, or tracking the stock market’s closing price daily.\n",
    "\n",
    "   *Example:* If you were to record the daily number of visitors to a website over a year, you'd have 365 data points, each representing a day.\n",
    "\n",
    "   - **Characteristics of Time Series Data:**\n",
    "\n",
    "    - *Temporal Dependence:* Each data point is related to its predecessors.\n",
    "    - *Seasonality:* Regular patterns that repeat over time, like increased ice cream sales in summer.\n",
    "    - *Trend:* Long-term increase or decrease in the data.\n",
    "\n",
    "3. **Deep Learning for Trend Prediction:**\n",
    "\n",
    "   Deep Learning models are highly suited for trend prediction due to their ability to process large volumes of data and learn complex patterns.\n",
    "\n",
    "   - **Advantages:**\n",
    "     - *Handling Non-linear Relationships:* They can capture complex, non-linear relationships in data.\n",
    "     - *Feature Extraction:* Deep Learning models can automatically extract and learn important features from raw data, which is crucial in identifying underlying trends.\n",
    "\n",
    "   - **Key Models Include:**\n",
    "\n",
    "     - *Recurrent Neural Networks (RNNs):** Ideal for sequential data, they can remember past information and use it to influence current predictions.\n",
    "     - *Long Short-Term Memory (LSTM) Networks:** A special kind of RNN, capable of learning long-term dependencies.\n",
    "     - *Convolutional Neural Networks (CNNs):** Though primarily used for image data, they can also be effective for time series by treating sequences as one-dimensional images.\n",
    "\n",
    "4. **LSTMs for Trend Prediction over Time Series Data:**\n",
    "\n",
    "   As it was mentioned before, traditional neural networks struggle with ‘long-term dependencies’ – learning from data points that are far apart in time. LSTMs are designed to overcome this limitation.\n",
    "\n",
    "   - **Key Features of LSTMs:**\n",
    "     - *Memory Cells:* LSTMs have cells that can maintain information for long periods, essential for understanding long-term trends.\n",
    "     - *Gates Mechanism:* They have a gate mechanism (input, output, and forget gates) that regulates the flow of information. These gates help the model to retain useful information and forget the irrelevant, enhancing its ability to predict trends.\n",
    "     - *Robustness to Time Lags:* LSTMs are less sensitive to the gap length between important events in a time series, making them suitable for complex trend predictions.\n",
    "\n",
    "5. **Example of LSTM in Trend Prediction:**\n",
    "\n",
    "   Consider predicting the future trend of energy consumption in a city. An LSTM model can be trained on historical energy usage data, weather conditions, and other relevant variables collected over time. The LSTM would learn the underlying patterns, like increased energy usage in cold weather, and then use this knowledge to predict future energy trends.\n",
    "\n",
    "6. **Challenges and Considerations:**\n",
    "\n",
    "   - *Data Preprocessing:* Time Series data often requires careful preprocessing, such as normalization and handling missing values.\n",
    "   - *Model Complexity:* LSTMs are complex and require substantial computational resources.\n",
    "   - *Overfitting:* There's a risk of overfitting, especially with noisy or limited data."
   ]
  },
  {
   "cell_type": "code",
   "execution_count": null,
   "metadata": {
    "id": "BK5jYfxqlaDP"
   },
   "outputs": [],
   "source": [
    "# !pip install gdown\n",
    "# !pip install tensorflow-gpu"
   ]
  },
  {
   "cell_type": "code",
   "execution_count": null,
   "metadata": {
    "id": "9qSCVq_elmtY"
   },
   "outputs": [],
   "source": [
    "import numpy as np\n",
    "import tensorflow as tf\n",
    "from tensorflow import keras\n",
    "import pandas as pd\n",
    "import seaborn as sns\n",
    "from pylab import rcParams\n",
    "import matplotlib.pyplot as plt\n",
    "from matplotlib import rc\n",
    "from sklearn.model_selection import train_test_split\n",
    "from pandas.plotting import register_matplotlib_converters\n",
    "\n",
    "%matplotlib inline\n",
    "%config InlineBackend.figure_format='retina'\n",
    "\n",
    "register_matplotlib_converters()\n",
    "sns.set(style='whitegrid', palette='muted', font_scale=1.5)\n",
    "\n",
    "rcParams['figure.figsize'] = 22, 10\n",
    "\n",
    "RANDOM_SEED = 42\n",
    "\n",
    "np.random.seed(RANDOM_SEED)\n",
    "tf.random.set_seed(RANDOM_SEED)"
   ]
  },
  {
   "cell_type": "code",
   "execution_count": null,
   "metadata": {
    "colab": {
     "base_uri": "https://localhost:8080/"
    },
    "id": "Z3-Ln42Rlnl3",
    "outputId": "bc0aed7a-e454-4774-a3ad-62fc9dc89d07"
   },
   "outputs": [],
   "source": [
    "!gdown --id 1nPw071R3tZi4zqVcmXA6kXVTe43Ex6K3 --output london_bike_sharing.csv"
   ]
  },
  {
   "cell_type": "code",
   "execution_count": null,
   "metadata": {
    "id": "QvslfDWPmELJ"
   },
   "outputs": [],
   "source": [
    "df = pd.read_csv(\n",
    "  \"london_bike_sharing.csv\",\n",
    "  parse_dates=['timestamp'],\n",
    "  index_col=\"timestamp\"\n",
    ")"
   ]
  },
  {
   "cell_type": "code",
   "execution_count": null,
   "metadata": {
    "colab": {
     "base_uri": "https://localhost:8080/"
    },
    "id": "G9xYxV6FojnL",
    "outputId": "bd9f8885-2b5c-4efc-9001-02a8bb70ec13"
   },
   "outputs": [],
   "source": [
    "df.shape"
   ]
  },
  {
   "cell_type": "markdown",
   "metadata": {
    "id": "Ve9UtIe_iGwD"
   },
   "source": [
    "Dataset features:    \n",
    "  - **timestamp** - timestamp field for grouping the data\n",
    "  - **cnt** - the count of a new bike shares\n",
    "  - **t1** - real temperature in C\n",
    "  - **t2** - temperature in C “feels like”\n",
    "  - **hum** - humidity in percentage\n",
    "  - **wind_speed** - wind speed in km/h\n",
    "  - **weather_code** - category of the weather\n",
    "  - **is_holiday** - boolean field - 1 holiday / 0 non holiday\n",
    "  - **is_weekend** - boolean field - 1 if the day is weekend\n",
    "  - **season** - category field meteorological seasons: 0-spring; 1-summer; 2-autumn; 3-winter."
   ]
  },
  {
   "cell_type": "code",
   "execution_count": null,
   "metadata": {
    "colab": {
     "base_uri": "https://localhost:8080/",
     "height": 237
    },
    "id": "pi0RNcp2oDCR",
    "outputId": "812a1a65-a71d-4724-d483-1ef3834729d5"
   },
   "outputs": [],
   "source": [
    "df.head()"
   ]
  },
  {
   "cell_type": "code",
   "execution_count": null,
   "metadata": {
    "id": "0RlWMaTT4us2"
   },
   "outputs": [],
   "source": [
    "df['hour'] = df.index.hour\n",
    "df['day_of_month'] = df.index.day\n",
    "df['day_of_week'] = df.index.dayofweek\n",
    "df['month'] = df.index.month"
   ]
  },
  {
   "cell_type": "markdown",
   "metadata": {
    "id": "GUSoV3VIin6B"
   },
   "source": [
    "## Bike shares over time, diagram"
   ]
  },
  {
   "cell_type": "code",
   "execution_count": null,
   "metadata": {
    "colab": {
     "base_uri": "https://localhost:8080/",
     "height": 872
    },
    "id": "RjTq3toY3Sne",
    "outputId": "76e7a0a6-9a15-4272-df71-eb7982e1e48e"
   },
   "outputs": [],
   "source": [
    "sns.lineplot(x=df.index, y=\"cnt\", data=df);"
   ]
  },
  {
   "cell_type": "code",
   "execution_count": null,
   "metadata": {
    "colab": {
     "base_uri": "https://localhost:8080/",
     "height": 893
    },
    "id": "ajRKBkKAt377",
    "outputId": "41f54a8d-b127-44d2-b369-5cb21d4b96d4"
   },
   "outputs": [],
   "source": [
    "# Monthly\n",
    "\n",
    "df_by_month = df.resample('M').sum()\n",
    "\n",
    "sns.lineplot(x=df_by_month.index, y=\"cnt\", data=df_by_month);"
   ]
  },
  {
   "cell_type": "markdown",
   "metadata": {
    "id": "-gkYpYpAjR0d"
   },
   "source": [
    "## Bike shares by the hour"
   ]
  },
  {
   "cell_type": "code",
   "execution_count": null,
   "metadata": {
    "colab": {
     "base_uri": "https://localhost:8080/",
     "height": 1000
    },
    "id": "taZre4QD5y1R",
    "outputId": "c86c645e-d42a-4ea6-aea8-a3fc9836a3ad"
   },
   "outputs": [],
   "source": [
    "fig,(ax1, ax2, ax3, ax4)= plt.subplots(nrows=4)\n",
    "fig.set_size_inches(18, 28)\n",
    "\n",
    "sns.pointplot(data=df, x='hour', y='cnt', ax=ax1)\n",
    "sns.pointplot(data=df, x='hour', y='cnt', hue='is_holiday', ax=ax2)\n",
    "sns.pointplot(data=df, x='hour', y='cnt', hue='is_weekend', ax=ax3)\n",
    "sns.pointplot(data=df, x='hour', y='cnt', hue='season', ax=ax4);"
   ]
  },
  {
   "cell_type": "markdown",
   "metadata": {
    "id": "LN5L9pNljeKF"
   },
   "source": [
    "## Bike shares by the day of the week"
   ]
  },
  {
   "cell_type": "code",
   "execution_count": null,
   "metadata": {
    "colab": {
     "base_uri": "https://localhost:8080/",
     "height": 1000
    },
    "id": "t4z60-Pt7lmV",
    "outputId": "481c9348-4534-464f-8ecc-59c65c2412e8"
   },
   "outputs": [],
   "source": [
    "fig,(ax1, ax2)= plt.subplots(nrows=2)\n",
    "fig.set_size_inches(18, 14)\n",
    "\n",
    "sns.pointplot(data=df, x='day_of_week', y='cnt', ax=ax1)\n",
    "sns.pointplot(data=df, x='day_of_week', y='cnt', hue='season', ax=ax2);"
   ]
  },
  {
   "cell_type": "markdown",
   "metadata": {
    "id": "Qa2DEC4ccbDM"
   },
   "source": [
    "# Data preprocessing"
   ]
  },
  {
   "cell_type": "code",
   "execution_count": null,
   "metadata": {
    "colab": {
     "base_uri": "https://localhost:8080/"
    },
    "id": "RAjPm_lh-2Pq",
    "outputId": "5ce4a5ab-d467-49fe-870a-7633747a4cbe"
   },
   "outputs": [],
   "source": [
    "# 90% - train, 10% - test\n",
    "\n",
    "train_size = int(len(df) * 0.9)\n",
    "test_size = len(df) - train_size\n",
    "train, test = df.iloc[0:train_size], df.iloc[train_size:len(df)]\n",
    "print(len(train), len(test))"
   ]
  },
  {
   "cell_type": "code",
   "execution_count": null,
   "metadata": {
    "colab": {
     "base_uri": "https://localhost:8080/"
    },
    "id": "Mw7dc-GRgIHc",
    "outputId": "224b8a99-120b-4b36-d788-4bcd2a6b2902"
   },
   "outputs": [],
   "source": [
    "# Scaling features in dataset\n",
    "\n",
    "from sklearn.preprocessing import RobustScaler\n",
    "\n",
    "f_columns = ['t1', 't2', 'hum', 'wind_speed']\n",
    "\n",
    "f_transformer = RobustScaler()\n",
    "cnt_transformer = RobustScaler()\n",
    "\n",
    "f_transformer = f_transformer.fit(train[f_columns].to_numpy())\n",
    "cnt_transformer = cnt_transformer.fit(train[['cnt']])\n",
    "\n",
    "train.loc[:, f_columns] = f_transformer.transform(train[f_columns].to_numpy())\n",
    "train['cnt'] = cnt_transformer.transform(train[['cnt']])\n",
    "\n",
    "test.loc[:, f_columns] = f_transformer.transform(test[f_columns].to_numpy())\n",
    "test['cnt'] = cnt_transformer.transform(test[['cnt']])"
   ]
  },
  {
   "cell_type": "code",
   "execution_count": null,
   "metadata": {
    "id": "cIUaVnCE-2nm"
   },
   "outputs": [],
   "source": [
    "# Creating a new dataset to prepare the sequences\n",
    "\n",
    "def create_dataset(X, y, time_steps=1):\n",
    "    Xs, ys = [], []\n",
    "    for i in range(len(X) - time_steps):\n",
    "        v = X.iloc[i:(i + time_steps)].values\n",
    "        Xs.append(v)\n",
    "        ys.append(y.iloc[i + time_steps])\n",
    "    return np.array(Xs), np.array(ys)"
   ]
  },
  {
   "cell_type": "code",
   "execution_count": null,
   "metadata": {
    "colab": {
     "base_uri": "https://localhost:8080/"
    },
    "id": "gywcHGA6-4oW",
    "outputId": "d9c6b7d1-9761-4e73-fdaf-12e43494344e"
   },
   "outputs": [],
   "source": [
    "# Each sequence is contains 10 data points from the observation history\n",
    "\n",
    "time_steps = 10\n",
    "\n",
    "# reshape to [samples, time_steps, n_features]\n",
    "\n",
    "X_train, y_train = create_dataset(train, train.cnt, time_steps)\n",
    "X_test, y_test = create_dataset(test, test.cnt, time_steps)\n",
    "\n",
    "print(X_train.shape, y_train.shape)"
   ]
  },
  {
   "cell_type": "markdown",
   "metadata": {
    "id": "kSCKTGQck2y_"
   },
   "source": [
    "# Trend Modeling: Simple Bidirectional LSTM with a Dropout layer"
   ]
  },
  {
   "cell_type": "code",
   "execution_count": null,
   "metadata": {
    "id": "Tz9KofSH-51-"
   },
   "outputs": [],
   "source": [
    "callback = keras.callbacks.EarlyStopping(monitor='loss', patience=3)\n",
    "                                         \n",
    "model = keras.Sequential()\n",
    "model.add(\n",
    "  keras.layers.Bidirectional(\n",
    "    keras.layers.LSTM(\n",
    "      units=128,\n",
    "      input_shape=(X_train.shape[1], X_train.shape[2])\n",
    "    )\n",
    "  )\n",
    ")\n",
    "model.add(keras.layers.Dropout(rate=0.2))\n",
    "model.add(keras.layers.Dense(units=1))\n",
    "model.compile(loss='mean_squared_error', optimizer='adam')"
   ]
  },
  {
   "cell_type": "code",
   "execution_count": null,
   "metadata": {
    "colab": {
     "base_uri": "https://localhost:8080/"
    },
    "id": "uufvbrJm_Cry",
    "outputId": "6e281fb0-8f5f-44af-e599-88b9171963f2"
   },
   "outputs": [],
   "source": [
    "history = model.fit(\n",
    "    X_train, y_train,\n",
    "    epochs=30,\n",
    "    batch_size=32,\n",
    "    validation_split=0.1,\n",
    "    shuffle=False,\n",
    "    callbacks=[callback]\n",
    ")"
   ]
  },
  {
   "cell_type": "markdown",
   "metadata": {
    "id": "YKS7JIi8k_J7"
   },
   "source": [
    "# Evaluation"
   ]
  },
  {
   "cell_type": "code",
   "execution_count": null,
   "metadata": {
    "colab": {
     "base_uri": "https://localhost:8080/",
     "height": 842
    },
    "id": "11Dyc1iX_D8X",
    "outputId": "7a711108-7016-4abd-bdcb-3ec23d87da26"
   },
   "outputs": [],
   "source": [
    "plt.plot(history.history['loss'], label='train')\n",
    "plt.plot(history.history['val_loss'], label='test')\n",
    "plt.legend();"
   ]
  },
  {
   "cell_type": "markdown",
   "metadata": {
    "id": "h1QKEs87lG4n"
   },
   "source": [
    "At about epoch 5, the model is already starting to overfit a bit. If you want, you can play around - regularize it, change the number of units, etc."
   ]
  },
  {
   "cell_type": "code",
   "execution_count": null,
   "metadata": {
    "colab": {
     "base_uri": "https://localhost:8080/"
    },
    "id": "FLGKCn9h_Fzg",
    "outputId": "31e62736-a292-4ba7-b49d-1a685d7348a5"
   },
   "outputs": [],
   "source": [
    "y_pred = model.predict(X_test)"
   ]
  },
  {
   "cell_type": "code",
   "execution_count": null,
   "metadata": {
    "id": "c3dHgIxphGPx"
   },
   "outputs": [],
   "source": [
    "y_train_inv = cnt_transformer.inverse_transform(y_train.reshape(1, -1))\n",
    "y_test_inv = cnt_transformer.inverse_transform(y_test.reshape(1, -1))\n",
    "y_pred_inv = cnt_transformer.inverse_transform(y_pred)"
   ]
  },
  {
   "cell_type": "markdown",
   "metadata": {
    "id": "FWzaGJZSlgik"
   },
   "source": [
    "### Visualization of ground truth vs prediction by our model"
   ]
  },
  {
   "cell_type": "code",
   "execution_count": null,
   "metadata": {
    "colab": {
     "base_uri": "https://localhost:8080/",
     "height": 872
    },
    "id": "zknFRCgtAFVn",
    "outputId": "93f97ac5-8360-4752-fcdb-97de8629280a"
   },
   "outputs": [],
   "source": [
    "# For all time\n",
    "\n",
    "plt.plot(np.arange(0, len(y_train)), y_train_inv.flatten(), 'g', label=\"history\")\n",
    "plt.plot(np.arange(len(y_train), len(y_train) + len(y_test)), y_test_inv.flatten(), marker='.', label=\"true\")\n",
    "plt.plot(np.arange(len(y_train), len(y_train) + len(y_test)), y_pred_inv.flatten(), 'r', label=\"prediction\")\n",
    "plt.ylabel('Bike Count')\n",
    "plt.xlabel('Time Step')\n",
    "plt.legend()\n",
    "plt.show();"
   ]
  },
  {
   "cell_type": "code",
   "execution_count": null,
   "metadata": {
    "colab": {
     "base_uri": "https://localhost:8080/",
     "height": 872
    },
    "id": "C0SiahA8BF4y",
    "outputId": "506473dc-d131-4473-8d78-6a2e61840420"
   },
   "outputs": [],
   "source": [
    "# In more visible form\n",
    "\n",
    "plt.plot(y_test_inv.flatten()[:200], marker='.', label=\"true\")\n",
    "plt.plot(y_pred_inv.flatten()[:200], 'r', label=\"prediction\")\n",
    "plt.ylabel('Bike Count')\n",
    "plt.xlabel('Time Step')\n",
    "plt.legend()\n",
    "plt.show();"
   ]
  }
 ],
 "metadata": {
  "colab": {
   "provenance": []
  },
  "kernelspec": {
   "display_name": "Python 3 (ipykernel)",
   "language": "python",
   "name": "python3"
  },
  "language_info": {
   "codemirror_mode": {
    "name": "ipython",
    "version": 3
   },
   "file_extension": ".py",
   "mimetype": "text/x-python",
   "name": "python",
   "nbconvert_exporter": "python",
   "pygments_lexer": "ipython3",
   "version": "3.9.18"
  }
 },
 "nbformat": 4,
 "nbformat_minor": 4
}
