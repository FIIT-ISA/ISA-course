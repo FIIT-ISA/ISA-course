{
  "nbformat": 4,
  "nbformat_minor": 0,
  "metadata": {
    "colab": {
      "provenance": []
    },
    "kernelspec": {
      "name": "python3",
      "display_name": "Python 3"
    },
    "language_info": {
      "name": "python"
    }
  },
  "cells": [
    {
      "cell_type": "code",
      "execution_count": null,
      "metadata": {
        "id": "Y8kqwSq6f-2A"
      },
      "outputs": [],
      "source": [
        "# -*- coding: utf-8 -*-\n",
        "#\n",
        "# Licensed under the Apache License, Version 2.0 (the \"License\");\n",
        "# you may not use this file except in compliance with the License.\n",
        "# You may obtain a copy of the License at\n",
        "#\n",
        "#    http://www.apache.org/licenses/LICENSE-2.0\n",
        "#\n",
        "# Unless required by applicable law or agreed to in writing, software\n",
        "# distributed under the License is distributed on an \"AS IS\" BASIS,\n",
        "# WITHOUT WARRANTIES OR CONDITIONS OF ANY KIND, either express or\n",
        "# implied.\n",
        "# See the License for the specific language governing permissions and\n",
        "# limitations under the License.\n",
        "#"
      ]
    },
    {
      "cell_type": "markdown",
      "source": [
        "Find the publicly available dataset containing personal data (e.g., identifiers, quasi-identifiers etc.)\n",
        "\n",
        "**Data Anonymization Techniques:**\n",
        "\n",
        "- Implement basic data anonymization techniques mentioned in the provided notebooks.\n",
        "- For each technique applied, provide a brief explanation of its impact on data privacy and utility.\n",
        "\n",
        "**Privacy-Preserving Data Mining (PPDM) Techniques:**\n",
        "\n",
        "- Research and implement at least one advanced PPDM technique (e.g., - k-anonymity, l-diversity, differential privacy) on the dataset.\n",
        "- Analyze the effectiveness of the chosen technique in preserving data privacy.\n",
        "\n",
        "**Data Analysis Post-Anonymization:**\n",
        "\n",
        "- Conduct a comparative analysis on the anonymized data versus the original- data. Focus on key statistical measures and any insights specific to the chosen domain of the dataset (healthcare, finances etc.).\n",
        "- Discuss how the anonymization process might impact data-driven decisions in chosen domain."
      ],
      "metadata": {
        "id": "tmD0e4IWgB1J"
      }
    },
    {
      "cell_type": "code",
      "source": [],
      "metadata": {
        "id": "N71W4v-egm07"
      },
      "execution_count": null,
      "outputs": []
    }
  ]
}