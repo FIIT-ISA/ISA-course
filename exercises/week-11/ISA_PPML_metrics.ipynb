{
  "cells": [
    {
      "cell_type": "code",
      "execution_count": 3,
      "metadata": {
        "id": "yqMcwxv3-Cd1"
      },
      "outputs": [],
      "source": [
        "# -*- coding: utf-8 -*-\n",
        "#\n",
        "# Licensed under the Apache License, Version 2.0 (the \"License\");\n",
        "# you may not use this file except in compliance with the License.\n",
        "# You may obtain a copy of the License at\n",
        "#\n",
        "#    http://www.apache.org/licenses/LICENSE-2.0\n",
        "#\n",
        "# Unless required by applicable law or agreed to in writing, software\n",
        "# distributed under the License is distributed on an \"AS IS\" BASIS,\n",
        "# WITHOUT WARRANTIES OR CONDITIONS OF ANY KIND, either express or\n",
        "# implied.\n",
        "# See the License for the specific language governing permissions and\n",
        "# limitations under the License.\n",
        "#"
      ]
    },
    {
      "cell_type": "markdown",
      "metadata": {
        "id": "HWnFJF44u_4K"
      },
      "source": [
        "# Privacy Metrics"
      ]
    },
    {
      "cell_type": "code",
      "execution_count": null,
      "metadata": {
        "id": "IaPnbJXaxnS8"
      },
      "outputs": [],
      "source": [
        "import pandas as pd\n",
        "import numpy as np\n",
        "import matplotlib.pyplot as plt\n",
        "import seaborn as sns\n",
        "\n",
        "np.random.seed(0)\n",
        "data = pd.DataFrame({\n",
        "    'Age': np.random.randint(18, 70, size=100),\n",
        "    'Income': np.random.randint(30000, 100000, size=100),\n",
        "    'Health_Status': np.random.choice(['Good', 'Average', 'Poor'], size=100),\n",
        "    'Cardio_Disease': np.random.choice([0, 1], size=100)  # 0 for No, 1 for Yes\n",
        "})\n",
        "\n",
        "data.head(10)"
      ]
    },
    {
      "cell_type": "markdown",
      "metadata": {
        "id": "sIIW3xDxxxtj"
      },
      "source": [
        "# 1. Anonymization Level (k-anonymity)\n",
        "\n",
        "**Explanation**: k-Anonymity ensures that each record is indistinguishable from at least \\(k-1\\) other records regarding certain 'quasi-identifier' attributes.\n",
        "\n",
        "**Formula**: A dataset is k-anonymous if each record appears with at least \\(k-1\\) others with identical quasi-identifiers.\n"
      ]
    },
    {
      "cell_type": "code",
      "execution_count": null,
      "metadata": {
        "id": "FJGJIJO5xtUZ"
      },
      "outputs": [],
      "source": [
        "# Example about k value\n",
        "k = 5\n",
        "\n",
        "# counting\n",
        "k_anonymity_counts = data.groupby(['Age', 'Health_Status']).size()\n",
        "k_anonymity_violations = k_anonymity_counts[k_anonymity_counts < k]\n",
        "\n",
        "# visualization\n",
        "plt.rcParams[\"figure.figsize\"] = (12, 4)\n",
        "k_anonymity_violations.plot(kind='bar', title='k-anonymity violations')"
      ]
    },
    {
      "cell_type": "markdown",
      "metadata": {
        "id": "NYM6WOPxyWh4"
      },
      "source": [
        "# 2. Information Loss\n",
        "\n",
        "**Explanation**: Information loss measures the loss of data utility due to anonymization techniques.\n",
        "\n",
        "**Formulas**: Information loss can be quantified in several ways depending on the context and the specific technique used for data anonymization. Common formulas include:\n",
        "\n",
        "1. **General Information Loss**:\n",
        "   - Formula: $IL = \\frac{1}{N} \\sum_{i=1}^{N} d(r_i, r'_i)$\n",
        "   - Here, $N$ is the number of records, $r_i$ is the original record, $r'_i$ is the anonymized record, and $d$ is a distance function measuring the difference between the original and anonymized data.\n",
        "\n",
        "2. **Normalized Certainty Penalty (NCP)**:\n",
        "   - Formula: $NCP = \\frac{\\sum_{i=1}^{N} \\sum_{j=1}^{m} \\text{NCP}(A_j, r_i)}{N \\times m}$\n",
        "   - $N$ is the number of records, $m$ is the number of attributes, $A_j$ is the $j$th attribute, and $\\text{NCP}(A_j, r_i)$ is the certainty penalty for attribute $A_j$ in record $r_i$.\n",
        "\n",
        "3. **Average Equivalence Class Size**:\n",
        "   - Formula: $AECS = \\frac{1}{|D|} \\sum_{e \\in D} |e|$\n",
        "   - $D$ represents the set of all equivalence classes, and $|e|$ is the size of an equivalence class.\n"
      ]
    },
    {
      "cell_type": "code",
      "execution_count": null,
      "metadata": {
        "id": "TKXf8_BDygNP"
      },
      "outputs": [],
      "source": [
        "# Example: Generalizing 'Age' to age groups\n",
        "data['Age_Group'] = pd.cut(data['Age'], bins=[18, 30, 40, 50, 60, 70], right=False)\n",
        "\n",
        "# Comparing distributions before and after generalization\n",
        "plt.rcParams[\"figure.figsize\"] = (4, 3)\n",
        "data['Age'].plot(kind='hist', alpha=0.5, label='Original')\n",
        "data['Age_Group'].value_counts().sort_index().plot(kind='bar', alpha=0.5, label='Generalized', color='red')"
      ]
    },
    {
      "cell_type": "markdown",
      "metadata": {
        "id": "u3wJ6oomyh5T"
      },
      "source": [
        "# 3. Entropy\n",
        "\n",
        "**Explanation**: Entropy is a measure of the unpredictability or randomness in a dataset.\n",
        "\n",
        "**Formula**: $H(X) = -\\sum p(x_i) \\log_2 p(x_i)$\n"
      ]
    },
    {
      "cell_type": "code",
      "execution_count": null,
      "metadata": {
        "id": "ggNRjcjZyr1m"
      },
      "outputs": [],
      "source": [
        "from scipy.stats import entropy\n",
        "\n",
        "# Calculate entropy of 'Health_Status'\n",
        "health_entropy = entropy(data['Health_Status'].value_counts(normalize=True))\n",
        "health_entropy"
      ]
    },
    {
      "cell_type": "markdown",
      "metadata": {
        "id": "v9KyqIe-zDMW"
      },
      "source": [
        "# 4. Information Gain (Mutual Information)\n",
        "\n",
        "**Explanation**: Measures the amount of information obtained about one random variable by observing another.\n",
        "\n",
        "**Formula**: $G(X; Y) = H(X) - H(X|Y)$\n"
      ]
    },
    {
      "cell_type": "code",
      "execution_count": null,
      "metadata": {
        "id": "NG4gHzPrzFRj"
      },
      "outputs": [],
      "source": [
        "from sklearn.metrics import mutual_info_score\n",
        "\n",
        "# Mutual information between 'Health_Status' and 'Cardio_Disease'\n",
        "info_gain = mutual_info_score(data['Health_Status'], data['Cardio_Disease'])\n",
        "info_gain"
      ]
    },
    {
      "cell_type": "markdown",
      "metadata": {
        "id": "yz4cbp_mzQ1U"
      },
      "source": [
        "# 5. ε-Differential Privacy\n",
        "\n",
        "**Explanation**: Ensures that the addition or removal of a single database item does not significantly affect the outcome of any analysis.\n",
        "\n",
        "**Formula**: The key formula is based on the concept of privacy budget (ε) and how it controls the addition of noise:\n",
        "\n",
        "1. **Basic Definition of ε-Differential Privacy**:\n",
        "   - Formula: $P(\\mathcal{A}(D) \\in S) \\leq e^\\varepsilon \\times P(\\mathcal{A}(D') \\in S)$\n",
        "   - $\\mathcal{A}$ is the randomized algorithm, $D$ and $D'$ are datasets differing in at most one element, $S$ is any subset of outputs, and $\\varepsilon$ (epsilon) is the privacy budget.\n",
        "\n",
        "2. **Laplace Mechanism**:\n",
        "   - Formula: $f_{\\text{Laplace}}(x|\\mu, b) = \\frac{1}{2b} \\exp\\left(-\\frac{|x - \\mu|}{b}\\right)$\n",
        "   - Here, $\\mu$ is the location parameter (typically the true value of a function), and $b$ is the scale parameter, often set as $\\frac{\\Delta f}{\\varepsilon}$, where $\\Delta f$ is the sensitivity of the function.\n",
        "\n",
        "3. **Gaussian Mechanism**:\n",
        "   - Formula: $f_{\\text{Gaussian}}(x|\\mu, \\sigma) = \\frac{1}{\\sigma\\sqrt{2\\pi}} \\exp\\left(-\\frac{(x - \\mu)^2}{2\\sigma^2}\\right)$\n",
        "   - $\\mu$ is the mean (true value), and $\\sigma$ is the standard deviation, related to $\\varepsilon$ and $\\delta$ (an additional parameter in differential privacy) through a more complex relationship involving sensitivity."
      ]
    },
    {
      "cell_type": "code",
      "execution_count": null,
      "metadata": {
        "id": "jCGzUnGjzTLF"
      },
      "outputs": [],
      "source": [
        "# Implementing a simple ε-differential privacy mechanism\n",
        "def laplace_mechanism(value, epsilon=1.0):\n",
        "    noise = np.random.laplace(0, 1/epsilon)\n",
        "    return value + noise\n",
        "\n",
        "epsilon_arr = [0.0, 0.1, 0.2, 0.3, 0.4, 0.5, 0.6, 0.7, 0.8, 0.9]\n",
        "income_sum = []\n",
        "\n",
        "for e in epsilon_arr:\n",
        "    if e==0.0:\n",
        "        income_sum.append(data['Income'].sum())\n",
        "    else:\n",
        "        # Applying differential privacy to the sum of 'Income'\n",
        "        sum = laplace_mechanism(data['Income'].sum(), epsilon=e)\n",
        "        income_sum.append(sum)\n",
        "\n",
        "# Visualization\n",
        "fig, ax = plt.subplots()\n",
        "plt.rcParams[\"figure.figsize\"] = (6, 3)\n",
        "plt.xlabel(\"Epsilon\")\n",
        "plt.ylabel(\"Income Sum\")\n",
        "ax.set_ylim(min(income_sum)-1, max(income_sum)+1)\n",
        "plt.bar(list(map(str, epsilon_arr)), income_sum)"
      ]
    },
    {
      "cell_type": "markdown",
      "metadata": {
        "id": "wifUEOl50V1H"
      },
      "source": [
        "# 6. Privacy Loss\n",
        "\n",
        "**Explanation**: Privacy loss quantifies the increase in risk of revealing private information due to data processing.\n",
        "\n",
        "**Formula**: Often calculated as a comparison between the probabilities of data output with and without a specific input.\n"
      ]
    },
    {
      "cell_type": "code",
      "execution_count": null,
      "metadata": {
        "id": "YwTFDH4L0a66"
      },
      "outputs": [],
      "source": [
        "# Comparing the distribution of original and DP-protected data\n",
        "original_income = data['Income']\n",
        "dp_protected_income = original_income.apply(lambda x: laplace_mechanism(x, epsilon=0.1))\n",
        "\n",
        "# Visualization\n",
        "plt.rcParams[\"figure.figsize\"] = (4, 3)\n",
        "sns.histplot(original_income, alpha=0.5, label='Original', kde=True)\n",
        "sns.histplot(dp_protected_income, alpha=0.5, label='DP Protected', color='green', kde=True)"
      ]
    },
    {
      "cell_type": "markdown",
      "metadata": {
        "id": "JNsHaJzK047q"
      },
      "source": [
        "# 7. Re-identification Risk\n",
        "\n",
        "**Explanation**: Measures the risk of identifying individuals in anonymized data. Higher risk implies a greater chance of re-identification.\n",
        "\n",
        "**Formula**: Often calculated based on the uniqueness of quasi-identifiers in the dataset.\n"
      ]
    },
    {
      "cell_type": "code",
      "execution_count": null,
      "metadata": {
        "id": "D9Sz_6Tw1zXT"
      },
      "outputs": [],
      "source": [
        "# Estimating risk based on the uniqueness of quasi-identifiers\n",
        "plt.rcParams[\"figure.figsize\"] = (12, 3)\n",
        "\n",
        "risk_scores = data.groupby(['Age', 'Health_Status']).size() / len(data)\n",
        "risk_scores.plot(kind='bar', title='Re-identification Risk Scores')"
      ]
    },
    {
      "cell_type": "markdown",
      "metadata": {
        "id": "oDx5JgUd17dJ"
      },
      "source": [
        "# 8. Data Distortion\n",
        "\n",
        "**Explanation**: Quantifies the alteration of data due to anonymization techniques like generalization or noise addition.\n",
        "\n",
        "**Formula**: Can be measured as the difference between original and distorted data distributions.\n"
      ]
    },
    {
      "cell_type": "code",
      "execution_count": null,
      "metadata": {
        "id": "1RJExjqc168J"
      },
      "outputs": [],
      "source": [
        "# Comparing original and generalized data distributions\n",
        "original_data = data['Income']\n",
        "\n",
        "# Generalizing income\n",
        "generalized_data = original_data.apply(lambda x: round(x, -3))\n",
        "\n",
        "# Visualization\n",
        "plt.rcParams[\"figure.figsize\"] = (4, 3)\n",
        "sns.histplot(original_data, alpha=0.5, label='Original')\n",
        "sns.histplot(generalized_data, alpha=0.5, label='Generalized', color='green')"
      ]
    },
    {
      "cell_type": "markdown",
      "metadata": {
        "id": "6fvqR0TR2CUI"
      },
      "source": [
        "# 9. Generalization Error\n",
        "\n",
        "**Explanation**: Measures the loss of information due to generalizing data values into broader categories.\n",
        "\n",
        "**Formula**: Difference between detailed and generalized data values.\n",
        "\n",
        "\n",
        "\n",
        "The generalization of age values into broader categories serves as a privacy-preserving measure by reducing the specificity of data points. While this approach helps in protecting identities by making specific records less identifiable, it also introduces the information loss. The generalization error quantifies this loss by comparing the original data distribution with the generalized distribution. In essence, it measures the extent to which data usefulness is compromised for the sake of privacy.\n",
        "\n",
        "Visualizing the original and generalized distributions side-by-side allows to observe the impact of generalization on data granularity. A detailed distribution reveals individual variations, whereas a generalized distribution packs these details into categories. This comparison highlights the balance that must be achieved between privacy protection and the preservation of data utility.\n"
      ]
    },
    {
      "cell_type": "code",
      "execution_count": null,
      "metadata": {
        "id": "Qp9pAveo2FlD"
      },
      "outputs": [],
      "source": [
        "# Create age groups\n",
        "data['Age_Group'] = pd.cut(data['Age'], bins=[0, 30, 40, 50, 60, 70, np.inf], right=False, labels=['<30', '30-39', '40-49', '50-59', '60-69', '70+'])\n",
        "\n",
        "plt.figure(figsize=(16, 6))\n",
        "\n",
        "# Original 'Age' Distribution\n",
        "plt.subplot(1, 2, 1)\n",
        "data['Age'].plot(kind='hist', bins=20, alpha=0.7, label='Original Age')\n",
        "plt.xlabel('Age (Years)')\n",
        "plt.ylabel('Frequency')\n",
        "plt.title('Original Age Distribution')\n",
        "\n",
        "# Generalized 'Age_Group' Distribution\n",
        "plt.subplot(1, 2, 2)\n",
        "data['Age_Group'].value_counts().sort_index().plot(kind='bar', alpha=0.7, color='orange', label='Age Group')\n",
        "plt.xlabel('Age Group')\n",
        "plt.ylabel('Frequency')\n",
        "plt.title('Generalized Age Group Distribution')\n",
        "\n",
        "plt.tight_layout()\n",
        "plt.show()\n",
        "\n",
        "\n",
        "# Comparison plot\n",
        "\n",
        "original_age = data['Age']\n",
        "generalized_age = data['Age_Group'].cat.codes  # Convert categories to numerical codes for visualization\n",
        "\n",
        "plt.figure(figsize=(16, 8))\n",
        "\n",
        "# Create a representative age for each age group for comparison\n",
        "age_group_mapping = {'<30': 30, '30-39': 40, '40-49': 50, '50-59': 60, '60-69': 70, '70+': (max(data[\"Age\"]) if max(data[\"Age\"])>70 else 100)}\n",
        "data['Generalized_Age_Representative'] = data['Age_Group'].map(age_group_mapping)\n",
        "\n",
        "plt.figure(figsize=(16, 8))\n",
        "\n",
        "# Histogram for Original Age\n",
        "plt.hist(data['Age'], bins=20, alpha=0.7, label='Original Age')\n",
        "\n",
        "# Overlay with representative points for each age group\n",
        "colors = ['red', 'blue', 'green', 'purple', 'orange', 'brown']\n",
        "\n",
        "for (group, representative_age), color in zip(age_group_mapping.items(), colors):\n",
        "    plt.axvline(x=representative_age, color=color, linestyle='--', lw=2,\n",
        "                label=f\"{group} (Gen. Age ~{representative_age} years)\")\n",
        "\n",
        "plt.xlabel('Age (Years) / Represented Age Groups')\n",
        "plt.ylabel('Frequency')\n",
        "plt.title('Overlayed Representation of Original and Generalized Age Distributions')\n",
        "plt.legend()\n",
        "\n",
        "plt.show()"
      ]
    },
    {
      "cell_type": "markdown",
      "metadata": {
        "id": "AxJGc2Jz2J61"
      },
      "source": [
        "# 10. Disclosure Risk\n",
        "\n",
        "**Explanation**: Assesses the likelihood of disclosing sensitive information in anonymized data.\n",
        "\n",
        "**Formula**: Calculated based on the probability of correctly inferring sensitive attributes.\n"
      ]
    },
    {
      "cell_type": "code",
      "execution_count": null,
      "metadata": {
        "id": "mML6LodJ2LnI"
      },
      "outputs": [],
      "source": [
        "# Estimating risk based on attribute inference\n",
        "disclosure_risk = data['Cardio_Disease'].value_counts(normalize=True)\n",
        "\n",
        "# Vizualization\n",
        "plt.rcParams[\"figure.figsize\"] = (4, 3)\n",
        "disclosure_risk.plot(kind='bar', title='Disclosure Risk Estimation')"
      ]
    },
    {
      "cell_type": "markdown",
      "metadata": {
        "id": "uglEByeR2QZl"
      },
      "source": [
        "# 11. Utility Loss\n",
        "\n",
        "**Explanation**: Reflects the reduction in data utility due to privacy-preserving techniques.\n",
        "\n",
        "**Formula**: Contrast between utility of original and privacy-preserved data.\n"
      ]
    },
    {
      "cell_type": "code",
      "execution_count": null,
      "metadata": {
        "id": "rWZByYIT2QOB"
      },
      "outputs": [],
      "source": [
        "# Utility loss in data generalization\n",
        "utility_loss = (original_data.mean() - generalized_data.mean()) / original_data.mean()\n",
        "utility_loss"
      ]
    },
    {
      "cell_type": "markdown",
      "metadata": {
        "id": "ciXdAweM2XfJ"
      },
      "source": [
        "# 12. Query Answering Accuracy\n",
        "\n",
        "**Explanation**: Measures the accuracy of responses to queries on privacy-preserved data.\n",
        "\n",
        "**Formula**: Accuracy = (Correct answers) / (Total queries)\n"
      ]
    },
    {
      "cell_type": "code",
      "execution_count": null,
      "metadata": {
        "id": "6hcOIGMy2YyI"
      },
      "outputs": [],
      "source": [
        "# Accuracy of queries on DP-protected data\n",
        "dp_protected_data = data['Income'].apply(lambda x: laplace_mechanism(x, epsilon=0.1))\n",
        "accuracy = np.mean(dp_protected_data.round() == original_data.round())\n",
        "accuracy"
      ]
    }
  ],
  "metadata": {
    "colab": {
      "provenance": []
    },
    "kernelspec": {
      "display_name": "Python 3 (ipykernel)",
      "language": "python",
      "name": "python3"
    },
    "language_info": {
      "codemirror_mode": {
        "name": "ipython",
        "version": 3
      },
      "file_extension": ".py",
      "mimetype": "text/x-python",
      "name": "python",
      "nbconvert_exporter": "python",
      "pygments_lexer": "ipython3",
      "version": "3.9.15"
    }
  },
  "nbformat": 4,
  "nbformat_minor": 0
}